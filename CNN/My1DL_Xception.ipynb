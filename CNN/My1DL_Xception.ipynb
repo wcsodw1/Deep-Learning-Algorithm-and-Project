{
 "cells": [
  {
   "cell_type": "code",
   "execution_count": 10,
   "metadata": {
    "collapsed": true,
    "jupyter": {
     "outputs_hidden": true
    }
   },
   "outputs": [
    {
     "name": "stdout",
     "output_type": "stream",
     "text": [
      "Traindata/\n",
      "Traindata/18/\n",
      "Traindata/18/.DS_Store\n",
      "Traindata/18/IMG_0045.jpg\n",
      "Traindata/18/IMG_0274.jpg\n",
      "Traindata/18/IMG_1073.jpg\n",
      "Traindata/18/IMG_1074.jpg\n",
      "Traindata/18/IMG_1213.jpg\n",
      "Traindata/18/IMG_1230.jpg\n",
      "Traindata/18/IMG_1319.jpg\n",
      "Traindata/18/IMG_1320.jpg\n",
      "Traindata/18/IMG_1325.jpg\n",
      "Traindata/18/IMG_1491.jpg\n",
      "Traindata/18/IMG_1513.jpg\n",
      "Traindata/18/IMG_1514.jpg\n",
      "Traindata/18/IMG_1517.jpg\n",
      "Traindata/18/IMG_1541.jpg\n",
      "Traindata/18/IMG_1547.jpg\n",
      "Traindata/18/IMG_1721.jpg\n",
      "Traindata/18/IMG_2368.jpg\n",
      "Traindata/18/IMG_2726.jpg\n",
      "Traindata/18/IMG_2768.jpg\n",
      "Traindata/18/IMG_2874.jpg\n",
      "Traindata/18/IMG_2930.jpg\n",
      "Traindata/18/IMG_3040.jpg\n",
      "Traindata/18/IMG_3068.jpg\n",
      "Traindata/18/IMG_3201.jpg\n",
      "Traindata/18/IMG_3237.jpg\n",
      "Traindata/18/IMG_3266.jpg\n",
      "Traindata/18/IMG_3574.jpg\n",
      "Traindata/18/IMG_3764.jpg\n",
      "Traindata/18/IMG_4134.jpg\n",
      "Traindata/18/IMG_4762.jpg\n",
      "Traindata/18/IMG_5071.jpg\n",
      "Traindata/18/IMG_5098.jpg\n",
      "Traindata/18/IMG_5181.jpg\n",
      "Traindata/18/IMG_5668.jpg\n",
      "Traindata/18/IMG_5751.jpg\n",
      "Traindata/18/IMG_6174.jpg\n",
      "Traindata/18/IMG_6217.jpg\n",
      "Traindata/18/IMG_6360.jpg\n",
      "Traindata/18/IMG_6389.jpg\n",
      "Traindata/18/IMG_6601.jpg\n",
      "Traindata/18/IMG_6631.jpg\n",
      "Traindata/18/IMG_7210.jpg\n",
      "Traindata/18/IMG_7404.jpg\n",
      "Traindata/18/IMG_7471.jpg\n",
      "Traindata/18/IMG_8217.jpg\n",
      "Traindata/18/IMG_8356.jpg\n",
      "Traindata/18/IMG_8429.jpg\n",
      "Traindata/18/IMG_8731.jpg\n",
      "Traindata/18/IMG_9526.jpg\n",
      "Traindata/18/IMG_9631.jpg\n",
      "Traindata/18/IMG_9828.jpg\n",
      "Traindata/18/IMG_9880.jpg\n",
      "Traindata/18/P_20191205_165522.jpg\n",
      "Traindata/18/P_20191205_165531.jpg\n",
      "Traindata/18/P_20191205_165535.jpg\n",
      "Traindata/18/P_20191205_165538.jpg\n",
      "Traindata/18/P_20191205_165542.jpg\n",
      "Traindata/18/P_20191205_165545.jpg\n",
      "Traindata/18/P_20191205_165553.jpg\n",
      "Traindata/18/P_20191205_165600.jpg\n",
      "Traindata/Ellie/\n",
      "Traindata/Ellie/IMG_0058.jpg\n",
      "Traindata/Ellie/IMG_0179.jpg\n",
      "Traindata/Ellie/IMG_0369.jpg\n",
      "Traindata/Ellie/IMG_0613.jpg\n",
      "Traindata/Ellie/IMG_0760.jpg\n",
      "Traindata/Ellie/IMG_0854.jpg\n",
      "Traindata/Ellie/IMG_1165.jpg\n",
      "Traindata/Ellie/IMG_1166.jpg\n",
      "Traindata/Ellie/IMG_1167.jpg\n",
      "Traindata/Ellie/IMG_1168.jpg\n",
      "Traindata/Ellie/IMG_1190.jpg\n",
      "Traindata/Ellie/IMG_1217.jpg\n",
      "Traindata/Ellie/IMG_1225 2.jpg\n",
      "Traindata/Ellie/IMG_1308.jpg\n",
      "Traindata/Ellie/IMG_1420.jpg\n",
      "Traindata/Ellie/IMG_1424.jpg\n",
      "Traindata/Ellie/IMG_1467.jpg\n",
      "Traindata/Ellie/IMG_1523.jpg\n",
      "Traindata/Ellie/IMG_1531.jpg\n",
      "Traindata/Ellie/IMG_1537.jpg\n",
      "Traindata/Ellie/IMG_1561.jpg\n",
      "Traindata/Ellie/IMG_1971.jpg\n",
      "Traindata/Ellie/IMG_2070.jpg\n",
      "Traindata/Ellie/IMG_2268.jpg\n",
      "Traindata/Ellie/IMG_2462.jpg\n",
      "Traindata/Ellie/IMG_2669.jpg\n",
      "Traindata/Ellie/IMG_2708.jpg\n",
      "Traindata/Ellie/IMG_2709.jpg\n",
      "Traindata/Ellie/IMG_2832.jpg\n",
      "Traindata/Ellie/IMG_3171.jpg\n",
      "Traindata/Ellie/IMG_3373.jpg\n",
      "Traindata/Ellie/IMG_3596.jpg\n",
      "Traindata/Ellie/IMG_3647.jpg\n",
      "Traindata/Ellie/IMG_3872.jpg\n",
      "Traindata/Ellie/IMG_3965.jpg\n",
      "Traindata/Ellie/IMG_4025.jpg\n",
      "Traindata/Ellie/IMG_4317.jpg\n",
      "Traindata/Ellie/IMG_4816.jpg\n",
      "Traindata/Ellie/IMG_5023.jpg\n",
      "Traindata/Ellie/IMG_5164.jpg\n",
      "Traindata/Ellie/IMG_5309.jpg\n",
      "Traindata/Ellie/IMG_5357.jpg\n",
      "Traindata/Ellie/IMG_5486.jpg\n",
      "Traindata/Ellie/IMG_5548.jpg\n",
      "Traindata/Ellie/IMG_5772.jpg\n",
      "Traindata/Ellie/IMG_6020.jpg\n",
      "Traindata/Ellie/IMG_6460.jpg\n",
      "Traindata/Ellie/IMG_6591.jpg\n",
      "Traindata/Ellie/IMG_7196.jpg\n",
      "Traindata/Ellie/IMG_7450.jpg\n",
      "Traindata/Ellie/IMG_7721.jpg\n",
      "Traindata/Ellie/IMG_8113.jpg\n",
      "Traindata/Ellie/IMG_8248.jpg\n",
      "Traindata/Ellie/IMG_8325.jpg\n",
      "Traindata/Ellie/IMG_8662.jpg\n",
      "Traindata/Ellie/IMG_9134.jpg\n",
      "Traindata/Ellie/IMG_9820.jpg\n",
      "Traindata/Ellie/P_20191205_165644.jpg\n",
      "Traindata/Ellie/P_20191205_165648.jpg\n",
      "Traindata/Ellie/P_20191205_165652.jpg\n",
      "Traindata/Ellie/P_20191205_165655.jpg\n",
      "Traindata/Ellie/P_20191205_165658.jpg\n",
      "Traindata/Jerry/\n",
      "Traindata/Jerry/1.JPG\n",
      "Traindata/Jerry/10.JPG\n",
      "Traindata/Jerry/11.JPG\n",
      "Traindata/Jerry/12.JPG\n",
      "Traindata/Jerry/13.JPG\n",
      "Traindata/Jerry/14.JPG\n",
      "Traindata/Jerry/15.JPG\n",
      "Traindata/Jerry/16.JPG\n",
      "Traindata/Jerry/17.JPG\n",
      "Traindata/Jerry/18.JPG\n",
      "Traindata/Jerry/2.JPG\n",
      "Traindata/Jerry/3.JPG\n",
      "Traindata/Jerry/4.JPG\n",
      "Traindata/Jerry/5.JPG\n",
      "Traindata/Jerry/6.JPG\n",
      "Traindata/Jerry/7.JPG\n",
      "Traindata/Jerry/8.JPG\n",
      "Traindata/Jerry/9.JPG\n",
      "Traindata/Jerry/IMG_0754.jpg\n",
      "Traindata/Jerry/IMG_5492.jpg\n",
      "Traindata/Jerry/IMG_5493.jpg\n",
      "Traindata/Jerry/IMG_5494.jpg\n",
      "Traindata/Jerry/IMG_5495.jpg\n",
      "Traindata/Jerry/IMG_5496.jpg\n",
      "Traindata/Jerry/IMG_5497.jpg\n",
      "Traindata/Jerry/IMG_5498.jpg\n",
      "Traindata/Jerry/IMG_5499.jpg\n",
      "Traindata/Jerry/IMG_5500.jpg\n",
      "Traindata/Jerry/IMG_5501.jpg\n",
      "Traindata/Jerry/IMG_5502.jpg\n",
      "Traindata/Jerry/IMG_5503.jpg\n",
      "Traindata/Jerry/IMG_5504.jpg\n",
      "Traindata/Jerry/IMG_5505.jpg\n",
      "Traindata/Jerry/IMG_5506.jpg\n",
      "Traindata/Jerry/IMG_5509.jpg\n",
      "Traindata/Jerry/IMG_5510.jpg\n",
      "Traindata/Jerry/IMG_5511.jpg\n",
      "Traindata/Jerry/IMG_5512.jpg\n",
      "Traindata/Jerry/IMG_5513.jpg\n",
      "Traindata/Jerry/IMG_5514.jpg\n",
      "Traindata/lala/\n",
      "Traindata/lala/IMG_0314.jpg\n",
      "Traindata/lala/IMG_0386 2.jpg\n",
      "Traindata/lala/IMG_1171.jpg\n",
      "Traindata/lala/IMG_1172.jpg\n",
      "Traindata/lala/IMG_1174.jpg\n",
      "Traindata/lala/IMG_1177.jpg\n",
      "Traindata/lala/IMG_1179.jpg\n",
      "Traindata/lala/IMG_1181.jpg\n",
      "Traindata/lala/IMG_1186.jpg\n",
      "Traindata/lala/IMG_1187.jpg\n",
      "Traindata/lala/IMG_1191.jpg\n",
      "Traindata/lala/IMG_1425.jpg\n",
      "Traindata/lala/IMG_1442.jpg\n",
      "Traindata/lala/IMG_1462.jpg\n",
      "Traindata/lala/IMG_1468.jpg\n",
      "Traindata/lala/IMG_1480.jpg\n",
      "Traindata/lala/IMG_1524.jpg\n",
      "Traindata/lala/IMG_1559.jpg\n",
      "Traindata/lala/IMG_3034.jpg\n",
      "Traindata/lala/IMG_3481.jpg\n",
      "Traindata/lala/IMG_3559.jpg\n",
      "Traindata/lala/IMG_3679.jpg\n",
      "Traindata/lala/IMG_4593.jpg\n",
      "Traindata/lala/IMG_5119.jpg\n",
      "Traindata/lala/IMG_6361.jpg\n",
      "Traindata/lala/IMG_6540.jpg\n",
      "Traindata/lala/IMG_6753.jpg\n",
      "Traindata/lala/IMG_6899.jpg\n",
      "Traindata/lala/IMG_7786.jpg\n",
      "Traindata/lala/IMG_7868.jpg\n",
      "Traindata/lala/IMG_8088.jpg\n",
      "Traindata/lala/IMG_8489.jpg\n",
      "Traindata/lala/IMG_8716.jpg\n",
      "Traindata/lala/IMG_8892.jpg\n",
      "Traindata/lala/P_20191205_165705.jpg\n",
      "Traindata/lala/P_20191205_165709.jpg\n",
      "Traindata/lala/P_20191205_165712.jpg\n",
      "Traindata/lala/P_20191205_165716.jpg\n",
      "Traindata/Prof.Kang/\n",
      "Traindata/Prof.Kang/1574664734983.jpg\n",
      "Traindata/Prof.Kang/IMG_0394.jpg\n",
      "Traindata/Prof.Kang/IMG_0652.jpg\n",
      "Traindata/Prof.Kang/IMG_0857.jpg\n",
      "Traindata/Prof.Kang/IMG_1197.jpg\n",
      "Traindata/Prof.Kang/IMG_1266.jpg\n",
      "Traindata/Prof.Kang/IMG_1285.jpg\n",
      "Traindata/Prof.Kang/IMG_1438.jpg\n",
      "Traindata/Prof.Kang/IMG_1440.jpg\n",
      "Traindata/Prof.Kang/IMG_1486.jpg\n",
      "Traindata/Prof.Kang/IMG_1494.jpg\n",
      "Traindata/Prof.Kang/IMG_1551.jpg\n",
      "Traindata/Prof.Kang/IMG_1552.jpg\n",
      "Traindata/Prof.Kang/IMG_1553.jpg\n",
      "Traindata/Prof.Kang/IMG_2236.jpg\n",
      "Traindata/Prof.Kang/IMG_2272.jpg\n",
      "Traindata/Prof.Kang/IMG_2664.jpg\n",
      "Traindata/Prof.Kang/IMG_2741.jpg\n",
      "Traindata/Prof.Kang/IMG_3980.jpg\n",
      "Traindata/Prof.Kang/IMG_4132.jpg\n",
      "Traindata/Prof.Kang/IMG_4484.jpg\n",
      "Traindata/Prof.Kang/IMG_4639.jpg\n",
      "Traindata/Prof.Kang/IMG_4653.jpg\n",
      "Traindata/Prof.Kang/IMG_4928.jpg\n",
      "Traindata/Prof.Kang/IMG_5385.jpg\n",
      "Traindata/Prof.Kang/IMG_5609.jpg\n",
      "Traindata/Prof.Kang/IMG_5817.jpg\n",
      "Traindata/Prof.Kang/IMG_5818.jpg\n",
      "Traindata/Prof.Kang/IMG_6056.jpg\n",
      "Traindata/Prof.Kang/IMG_6629.jpg\n",
      "Traindata/Prof.Kang/IMG_6650.jpg\n",
      "Traindata/Prof.Kang/IMG_6813.jpg\n",
      "Traindata/Prof.Kang/IMG_6903.jpg\n",
      "Traindata/Prof.Kang/IMG_7229.jpg\n",
      "Traindata/Prof.Kang/IMG_8159.jpg\n",
      "Traindata/Prof.Kang/IMG_8430.jpg\n",
      "Traindata/Prof.Kang/IMG_8523.jpg\n",
      "Traindata/Prof.Kang/IMG_8553.jpg\n",
      "Traindata/Prof.Kang/IMG_8658.jpg\n",
      "Traindata/Prof.Kang/IMG_9124.jpg\n",
      "Traindata/Prof.Kang/IMG_9459 2.jpg\n",
      "Traindata/Prof.Kang/IMG_9928.jpg\n",
      "Traindata/Prof.Kang/P_20191205_165429.jpg\n",
      "Traindata/Prof.Kang/P_20191205_165437.jpg\n",
      "Traindata/Prof.Kang/P_20191205_165439.jpg\n",
      "Traindata/Prof.Kang/P_20191205_165443.jpg\n",
      "Traindata/Prof.Kang/P_20191205_165446.jpg\n",
      "Traindata/Prof.Kang/P_20191205_165450.jpg\n",
      "Traindata/Prof.Kang/P_20191205_165453.jpg\n",
      "Traindata/Prof.Kang/P_20191205_165504.jpg\n",
      "Traindata/Rockman/\n",
      "Traindata/Rockman/IMG_0199.jpg\n",
      "Traindata/Rockman/IMG_0398.jpg\n",
      "Traindata/Rockman/IMG_0439.jpg\n",
      "Traindata/Rockman/IMG_0531.jpg\n",
      "Traindata/Rockman/IMG_0590.jpg\n",
      "Traindata/Rockman/IMG_0816.jpg\n",
      "Traindata/Rockman/IMG_0819.jpg\n",
      "Traindata/Rockman/IMG_0930.jpg\n",
      "Traindata/Rockman/IMG_0999.jpg\n",
      "Traindata/Rockman/IMG_1201.jpg\n",
      "Traindata/Rockman/IMG_1218.jpg\n",
      "Traindata/Rockman/IMG_1222.jpg\n",
      "Traindata/Rockman/IMG_1225.jpg\n",
      "Traindata/Rockman/IMG_1227.jpg\n",
      "Traindata/Rockman/IMG_1234.jpg\n",
      "Traindata/Rockman/IMG_1314.jpg\n",
      "Traindata/Rockman/IMG_1325-1.jpg\n",
      "Traindata/Rockman/IMG_1389.jpg\n",
      "Traindata/Rockman/IMG_1414.jpg\n",
      "Traindata/Rockman/IMG_1447.jpg\n",
      "Traindata/Rockman/IMG_1472.jpg\n",
      "Traindata/Rockman/IMG_1474.jpg\n",
      "Traindata/Rockman/IMG_1488.jpg\n",
      "Traindata/Rockman/IMG_1495.jpg\n",
      "Traindata/Rockman/IMG_1510.jpg\n",
      "Traindata/Rockman/IMG_1511.jpg\n",
      "Traindata/Rockman/IMG_1512.jpg\n",
      "Traindata/Rockman/IMG_1518.jpg\n",
      "Traindata/Rockman/IMG_1528.jpg\n",
      "Traindata/Rockman/IMG_1547.jpg\n",
      "Traindata/Rockman/IMG_1848.jpg\n",
      "Traindata/Rockman/IMG_20191127_180455.jpg\n",
      "Traindata/Rockman/IMG_2087.jpg\n",
      "Traindata/Rockman/IMG_2133.jpg\n",
      "Traindata/Rockman/IMG_2375.jpg\n",
      "Traindata/Rockman/IMG_2539.jpg\n",
      "Traindata/Rockman/IMG_2545.jpg\n",
      "Traindata/Rockman/IMG_2731.jpg\n",
      "Traindata/Rockman/IMG_2811.jpg\n",
      "Traindata/Rockman/IMG_2979.jpg\n",
      "Traindata/Rockman/IMG_3109.jpg\n",
      "Traindata/Rockman/IMG_3202.jpg\n",
      "Traindata/Rockman/IMG_3430.jpg\n",
      "Traindata/Rockman/IMG_3685.jpg\n",
      "Traindata/Rockman/IMG_4116.jpg\n",
      "Traindata/Rockman/IMG_4145.jpg\n",
      "Traindata/Rockman/IMG_4254.jpg\n",
      "Traindata/Rockman/IMG_4482.jpg\n",
      "Traindata/Rockman/IMG_5177.jpg\n",
      "Traindata/Rockman/IMG_5526.jpg\n",
      "Traindata/Rockman/IMG_5718.jpg\n",
      "Traindata/Rockman/IMG_5838.jpg\n",
      "Traindata/Rockman/IMG_6598.jpg\n",
      "Traindata/Rockman/IMG_6624.jpg\n",
      "Traindata/Rockman/IMG_6902.jpg\n",
      "Traindata/Rockman/IMG_7049.jpg\n",
      "Traindata/Rockman/IMG_7073.jpg\n",
      "Traindata/Rockman/IMG_7504.jpg\n",
      "Traindata/Rockman/IMG_7630.jpg\n",
      "Traindata/Rockman/IMG_7883.jpg\n",
      "Traindata/Rockman/IMG_7958.jpg\n",
      "Traindata/Rockman/IMG_8762.jpg\n",
      "Traindata/Rockman/IMG_8917.jpg\n",
      "Traindata/Rockman/IMG_9426.jpg\n",
      "Traindata/Rockman/IMG_9433.jpg\n",
      "Traindata/Rockman/IMG_9863.jpg\n",
      "Traindata/Rockman/P_20191205_165205.jpg\n",
      "Traindata/Rockman/P_20191205_165212.jpg\n",
      "Traindata/Rockman/P_20191205_165220.jpg\n",
      "Traindata/Rockman/P_20191205_165232.jpg\n",
      "Traindata/Rockman/P_20191205_165235.jpg\n",
      "Traindata/Rockman/P_20191205_165243.jpg\n",
      "Traindata/Rockman/P_20191205_165248.jpg\n",
      "Traindata/Rockman/P_20191205_165252.jpg\n",
      "Traindata/Rockman/P_20191205_165254.jpg\n",
      "Traindata/Rockman/P_20191205_165257.jpg\n",
      "Traindata/tan/\n",
      "Traindata/tan/1071223191129_0019.jpg\n",
      "Traindata/tan/10914952_1089000411113918_9144861659561027306_o.jpg\n",
      "Traindata/tan/11088506_1090962757584350_6628381086476292423_o.jpg\n",
      "Traindata/tan/11088506_1090963754250917_6521420452257676688_o.jpg\n",
      "Traindata/tan/11247803_1206740049344063_6841472996972837427_n.jpg\n",
      "Traindata/tan/190925-27191129_0018.jpg\n",
      "Traindata/tan/190925-27_191129_0068.jpg\n",
      "Traindata/tan/190925-2_191129_0022.jpg\n",
      "Traindata/tan/2016.121191129_0052.jpg\n",
      "Traindata/tan/20160813191129_0004.jpg\n",
      "Traindata/tan/20170819191129_0025.jpg\n",
      "Traindata/tan/2017101191129_0004.jpg\n",
      "Traindata/tan/20190406_191129_0015.jpg\n",
      "Traindata/tan/2019040_191129_0023.jpg\n",
      "Traindata/tan/53390449_2997264310287509_2194840240873537536_o.jpg\n",
      "Traindata/tan/596721371.64747.jpg\n",
      "Traindata/tan/75553036_266997974234395_3952115445628141568_n.jpg\n",
      "Traindata/tan/IMG_0360.jpg\n",
      "Traindata/tan/IMG_0777.jpg\n",
      "Traindata/tan/IMG_1147.jpg\n",
      "Traindata/tan/IMG_1187.jpg\n",
      "Traindata/tan/IMG_1417.jpg\n",
      "Traindata/tan/IMG_1542.jpg\n",
      "Traindata/tan/IMG_1846.jpg\n",
      "Traindata/tan/IMG_2003.jpg\n",
      "Traindata/tan/IMG_2083.jpg\n",
      "Traindata/tan/IMG_3175.jpg\n",
      "Traindata/tan/IMG_3524.jpg\n",
      "Traindata/tan/IMG_3619.jpg\n",
      "Traindata/tan/IMG_4026.jpg\n",
      "Traindata/tan/IMG_4564.jpg\n",
      "Traindata/tan/IMG_4657.jpg\n",
      "Traindata/tan/IMG_4710.jpg\n",
      "Traindata/tan/IMG_4790.jpg\n",
      "Traindata/tan/IMG_4914.jpg\n",
      "Traindata/tan/IMG_4971.jpg\n",
      "Traindata/tan/IMG_5120.jpg\n",
      "Traindata/tan/IMG_5556.jpg\n",
      "Traindata/tan/IMG_5748.jpg\n",
      "Traindata/tan/IMG_6403.jpg\n",
      "Traindata/tan/IMG_6420.jpg\n",
      "Traindata/tan/IMG_6528.jpg\n",
      "Traindata/tan/IMG_6620.jpg\n",
      "Traindata/tan/IMG_7406.jpg\n",
      "Traindata/tan/IMG_7549.jpg\n",
      "Traindata/tan/IMG_7621.jpg\n",
      "Traindata/tan/IMG_7673.jpg\n",
      "Traindata/tan/IMG_7742.jpg\n",
      "Traindata/tan/IMG_7806.jpg\n",
      "Traindata/tan/IMG_7809.jpg\n",
      "Traindata/tan/IMG_7933.jpg\n",
      "Traindata/tan/IMG_7989.jpg\n",
      "Traindata/tan/IMG_8108.jpg\n",
      "Traindata/tan/IMG_8194.jpg\n",
      "Traindata/tan/IMG_8635.jpg\n",
      "Traindata/tan/IMG_8814.jpg\n",
      "Traindata/tan/IMG_8886.jpg\n",
      "Traindata/tan/IMG_9404.jpg\n",
      "Traindata/tan/IMG_9467.jpg\n",
      "Traindata/tan/IMG_9578.jpg\n",
      "Traindata/tan/IMG_9621.jpg\n",
      "Traindata/tan/IMG_9941.jpg\n",
      "Traindata/tan/P_20191205_165319.jpg\n",
      "Traindata/tan/P_20191205_165322.jpg\n",
      "Traindata/tan/P_20191205_165325.jpg\n",
      "Traindata/tan/P_20191205_165328.jpg\n",
      "Traindata/tan/P_20191205_165331.jpg\n",
      "Traindata/tan/P_20191205_165336.jpg\n",
      "Traindata/tan/P_20191205_165338.jpg\n",
      "Traindata/tan/S__18882573.jpg\n",
      "Traindata/tim/\n",
      "Traindata/tim/00100lPORTRAIT_00100_BURST20181201090604008_COVER.jpg\n",
      "Traindata/tim/1574663803385.jpg\n",
      "Traindata/tim/DSC_0313.jpg\n",
      "Traindata/tim/IMG_0089.jpg\n",
      "Traindata/tim/IMG_0386.jpg\n",
      "Traindata/tim/IMG_1177.jpg\n",
      "Traindata/tim/IMG_1200.jpg\n",
      "Traindata/tim/IMG_1316.jpg\n",
      "Traindata/tim/IMG_1411.jpg\n",
      "Traindata/tim/IMG_1416.jpg\n",
      "Traindata/tim/IMG_1487.jpg\n",
      "Traindata/tim/IMG_1519.jpg\n",
      "Traindata/tim/IMG_1520.jpg\n",
      "Traindata/tim/IMG_1545.jpg\n",
      "Traindata/tim/IMG_1829.jpg\n",
      "Traindata/tim/IMG_1832.jpg\n",
      "Traindata/tim/IMG_1877.jpg\n",
      "Traindata/tim/IMG_20190529_111008.jpg\n",
      "Traindata/tim/IMG_20190822_184717.jpg\n",
      "Traindata/tim/IMG_20191101_231216.jpg\n",
      "Traindata/tim/IMG_20191102_183155.jpg\n",
      "Traindata/tim/IMG_20191106_134829.jpg\n",
      "Traindata/tim/IMG_2295.jpg\n",
      "Traindata/tim/IMG_2419.jpg\n",
      "Traindata/tim/IMG_3310.jpg\n",
      "Traindata/tim/IMG_3394.jpg\n",
      "Traindata/tim/IMG_3477.jpg\n",
      "Traindata/tim/IMG_3509 2.jpg\n",
      "Traindata/tim/IMG_3509.jpg\n",
      "Traindata/tim/IMG_4196.jpg\n",
      "Traindata/tim/IMG_4745.jpg\n",
      "Traindata/tim/IMG_4997.jpg\n",
      "Traindata/tim/IMG_5237.jpg\n",
      "Traindata/tim/IMG_5296.jpg\n",
      "Traindata/tim/IMG_5459.jpg\n",
      "Traindata/tim/IMG_5489.jpg\n",
      "Traindata/tim/IMG_6114.jpg\n",
      "Traindata/tim/IMG_6288.jpg\n",
      "Traindata/tim/IMG_6437.jpg\n",
      "Traindata/tim/IMG_6825.jpg\n",
      "Traindata/tim/IMG_6908.jpg\n",
      "Traindata/tim/IMG_7191.jpg\n",
      "Traindata/tim/IMG_7445.jpg\n",
      "Traindata/tim/IMG_7645.jpg\n",
      "Traindata/tim/IMG_8417.jpg\n",
      "Traindata/tim/IMG_8754.jpg\n",
      "Traindata/tim/IMG_8793.jpg\n",
      "Traindata/tim/line_1571580744074.jpg\n",
      "Traindata/wwk/\n",
      "Traindata/wwk/IMG_0790.jpg\n",
      "Traindata/wwk/IMG_0812.jpg\n",
      "Traindata/wwk/IMG_1199.jpg\n",
      "Traindata/wwk/IMG_1232.jpg\n",
      "Traindata/wwk/IMG_1415.jpg\n",
      "Traindata/wwk/IMG_1427.jpg\n",
      "Traindata/wwk/IMG_1447.jpg\n",
      "Traindata/wwk/IMG_1461.jpg\n",
      "Traindata/wwk/IMG_1469.jpg\n",
      "Traindata/wwk/IMG_1483.jpg\n",
      "Traindata/wwk/IMG_1490.jpg\n",
      "Traindata/wwk/IMG_1498.jpg\n",
      "Traindata/wwk/IMG_1499.jpg\n",
      "Traindata/wwk/IMG_1515.jpg\n",
      "Traindata/wwk/IMG_1516.jpg\n",
      "Traindata/wwk/IMG_1548.jpg\n",
      "Traindata/wwk/IMG_1549.jpg\n",
      "Traindata/wwk/IMG_1556.jpg\n",
      "Traindata/wwk/IMG_1557.jpg\n",
      "Traindata/wwk/IMG_1813.jpg\n",
      "Traindata/wwk/IMG_20191127_180507.jpg\n",
      "Traindata/wwk/IMG_3138.jpg\n",
      "Traindata/wwk/IMG_3147.jpg\n",
      "Traindata/wwk/IMG_3672.jpg\n",
      "Traindata/wwk/IMG_3830.jpg\n",
      "Traindata/wwk/IMG_3992.jpg\n",
      "Traindata/wwk/IMG_4163.jpg\n",
      "Traindata/wwk/IMG_5026.jpg\n",
      "Traindata/wwk/IMG_5571.jpg\n",
      "Traindata/wwk/IMG_6971.jpg\n",
      "Traindata/wwk/IMG_7559.jpg\n",
      "Traindata/wwk/IMG_8808.jpg\n",
      "Traindata/wwk/IMG_9009.jpg\n",
      "Traindata/wwk/IMG_9842.jpg\n",
      "Traindata/wwk/P_20191205_165343.jpg\n",
      "Traindata/wwk/P_20191205_165346.jpg\n",
      "Traindata/wwk/P_20191205_165356.jpg\n",
      "Traindata/wwk/P_20191205_165358.jpg\n",
      "Traindata/wwk/P_20191205_165401.jpg\n",
      "Traindata/wwk/P_20191205_165403.jpg\n",
      "Traindata/wwk/P_20191205_165407.jpg\n",
      "Traindata/wwk/P_20191205_165410.jpg\n",
      "Traindata/wwk/P_20191205_165413.jpg\n",
      "Traindata/Yoshit/\n",
      "Traindata/Yoshit/3434.jpg\n",
      "Traindata/Yoshit/IMG_0193.jpg\n",
      "Traindata/Yoshit/IMG_0908.jpg\n",
      "Traindata/Yoshit/IMG_0947.jpg\n",
      "Traindata/Yoshit/IMG_1158.jpg\n",
      "Traindata/Yoshit/IMG_1159.jpg\n",
      "Traindata/Yoshit/IMG_1183.jpg\n",
      "Traindata/Yoshit/IMG_1190.jpg\n",
      "Traindata/Yoshit/IMG_1317.jpg\n",
      "Traindata/Yoshit/IMG_1378.jpg\n",
      "Traindata/Yoshit/IMG_1449.jpg\n",
      "Traindata/Yoshit/IMG_1455.jpg\n",
      "Traindata/Yoshit/IMG_1459.jpg\n",
      "Traindata/Yoshit/IMG_1465.jpg\n",
      "Traindata/Yoshit/IMG_1542.jpg\n",
      "Traindata/Yoshit/IMG_1543.jpg\n",
      "Traindata/Yoshit/IMG_1691.jpg\n",
      "Traindata/Yoshit/IMG_1717.jpg\n",
      "Traindata/Yoshit/IMG_2136.jpg\n",
      "Traindata/Yoshit/IMG_2305.jpg\n",
      "Traindata/Yoshit/IMG_2734.jpg\n",
      "Traindata/Yoshit/IMG_2798.jpg\n",
      "Traindata/Yoshit/IMG_3367.jpg\n",
      "Traindata/Yoshit/IMG_3981.jpg\n",
      "Traindata/Yoshit/IMG_4240.jpg\n",
      "Traindata/Yoshit/IMG_4769.jpg\n",
      "Traindata/Yoshit/IMG_4877.jpg\n",
      "Traindata/Yoshit/IMG_5651.jpg\n",
      "Traindata/Yoshit/IMG_6151.jpg\n",
      "Traindata/Yoshit/IMG_6192.jpg\n",
      "Traindata/Yoshit/IMG_6366.jpg\n",
      "Traindata/Yoshit/IMG_6504.jpg\n",
      "Traindata/Yoshit/IMG_6625.jpg\n",
      "Traindata/Yoshit/IMG_7201.jpg\n",
      "Traindata/Yoshit/IMG_7273.jpg\n",
      "Traindata/Yoshit/IMG_7501.jpg\n",
      "Traindata/Yoshit/IMG_8481.jpg\n",
      "Traindata/Yoshit/IMG_9989.jpg\n"
     ]
    }
   ],
   "source": [
    "#!tar xvf Traindata.tar"
   ]
  },
  {
   "cell_type": "code",
   "execution_count": 33,
   "metadata": {},
   "outputs": [],
   "source": [
    "import argparse\n",
    "import pickle"
   ]
  },
  {
   "cell_type": "markdown",
   "metadata": {},
   "source": [
    "# 1.Import / 設定路徑 / Define Class"
   ]
  },
  {
   "cell_type": "code",
   "execution_count": 1,
   "metadata": {},
   "outputs": [],
   "source": [
    "import os,shutil\n",
    "import glob\n",
    "import numpy as np\n",
    "\n",
    "from tensorflow.keras import models, layers, optimizers\n",
    "from tensorflow.keras.applications.resnet50 import ResNet50\n",
    "from tensorflow.keras.preprocessing.image import  ImageDataGenerator\n",
    "from tensorflow.keras import optimizers\n",
    "from tensorflow.keras.callbacks import ModelCheckpoint, EarlyStopping\n",
    "\n",
    "from tensorflow.keras.applications import Xception\n",
    "\n",
    "\n",
    "#Read File\n",
    "Train_dir = r'./Traindata/'\n",
    "Test_dir = r'./test_datasets/'"
   ]
  },
  {
   "cell_type": "code",
   "execution_count": 2,
   "metadata": {},
   "outputs": [
    {
     "data": {
      "text/plain": [
       "'./Traindata/'"
      ]
     },
     "execution_count": 2,
     "metadata": {},
     "output_type": "execute_result"
    }
   ],
   "source": [
    "Train_dir "
   ]
  },
  {
   "cell_type": "markdown",
   "metadata": {},
   "source": [
    "1.1 - Set Class Map"
   ]
  },
  {
   "cell_type": "code",
   "execution_count": null,
   "metadata": {},
   "outputs": [
    {
     "data": {
      "text/plain": [
       "{'lala': 5,\n",
       " 'Jerry': 9,\n",
       " '18': 0,\n",
       " 'tim': 7,\n",
       " 'tan': 6,\n",
       " 'wwk': 8,\n",
       " 'Prof.Kang': 2,\n",
       " 'Yoshit': 4,\n",
       " 'Rockman': 3,\n",
       " 'Ellie': 1}"
      ]
     },
     "execution_count": 2,
     "metadata": {},
     "output_type": "execute_result"
    }
   ],
   "source": [
    "class_mapping = {\n",
    " 'lala': 5, \n",
    " 'Jerry': 9,\n",
    " '18': 0,\n",
    " 'tim': 7,\n",
    " 'tan': 6,\n",
    " 'wwk': 8,\n",
    " 'Prof.Kang': 2,\n",
    " 'Yoshit': 4,\n",
    " 'Rockman': 3,\n",
    " 'Ellie': 1}\n",
    "\n",
    "class_mapping "
   ]
  },
  {
   "cell_type": "markdown",
   "metadata": {},
   "source": [
    "# 2. Built Xception Model"
   ]
  },
  {
   "cell_type": "markdown",
   "metadata": {},
   "source": [
    "### Sequential : keras的序慣模型 model = models.Sequential()\n",
    "\n",
    "- 將捲積基底(convolution base)視為一層加入Sequential 模型中  :   model.add(convolution_base) \n",
    "- model.add(layers.GlobalAveragePooling2D(data_format = 'channels_last'))\n",
    "- dropout\n",
    "- Set Output :  \"Class & Softmax\" :  "
   ]
  },
  {
   "cell_type": "code",
   "execution_count": null,
   "metadata": {},
   "outputs": [
    {
     "name": "stdout",
     "output_type": "stream",
     "text": [
      "WARNING:tensorflow:From C:\\Users\\user\\anaconda3new\\lib\\site-packages\\tensorflow\\python\\ops\\init_ops.py:1251: calling VarianceScaling.__init__ (from tensorflow.python.ops.init_ops) with dtype is deprecated and will be removed in a future version.\n",
      "Instructions for updating:\n",
      "Call initializer instance with the dtype argument instead of passing it to the constructor\n",
      "WARNING:tensorflow:Large dropout rate: 0.6 (>0.5). In TensorFlow 2.x, dropout() uses dropout rate instead of keep_prob. Please ensure that this is intended.\n"
     ]
    }
   ],
   "source": [
    "# Set Convolution Base\n",
    "convolution_base = Xception(weights = 'imagenet',\n",
    "                      include_top = False,\n",
    "                        input_shape =(299,299,3))\n",
    "\n",
    "\n",
    "model = models.Sequential()\n",
    "model.add(convolution_base) #將捲積基底視為層加入Sequential 模型中\n",
    "model.add(layers.GlobalAveragePooling2D(data_format = 'channels_last'))\n",
    "model.add(layers.Dropout(0.6))\n",
    "model.add(layers.Dense(10, activation = 'softmax'))"
   ]
  },
  {
   "cell_type": "code",
   "execution_count": 9,
   "metadata": {
    "collapsed": true,
    "jupyter": {
     "outputs_hidden": true
    }
   },
   "outputs": [
    {
     "name": "stdout",
     "output_type": "stream",
     "text": [
      "Model: \"xception\"\n",
      "__________________________________________________________________________________________________\n",
      "Layer (type)                    Output Shape         Param #     Connected to                     \n",
      "==================================================================================================\n",
      "input_1 (InputLayer)            [(None, 299, 299, 3) 0                                            \n",
      "__________________________________________________________________________________________________\n",
      "block1_conv1 (Conv2D)           (None, 149, 149, 32) 864         input_1[0][0]                    \n",
      "__________________________________________________________________________________________________\n",
      "block1_conv1_bn (BatchNormaliza (None, 149, 149, 32) 128         block1_conv1[0][0]               \n",
      "__________________________________________________________________________________________________\n",
      "block1_conv1_act (Activation)   (None, 149, 149, 32) 0           block1_conv1_bn[0][0]            \n",
      "__________________________________________________________________________________________________\n",
      "block1_conv2 (Conv2D)           (None, 147, 147, 64) 18432       block1_conv1_act[0][0]           \n",
      "__________________________________________________________________________________________________\n",
      "block1_conv2_bn (BatchNormaliza (None, 147, 147, 64) 256         block1_conv2[0][0]               \n",
      "__________________________________________________________________________________________________\n",
      "block1_conv2_act (Activation)   (None, 147, 147, 64) 0           block1_conv2_bn[0][0]            \n",
      "__________________________________________________________________________________________________\n",
      "block2_sepconv1 (SeparableConv2 (None, 147, 147, 128 8768        block1_conv2_act[0][0]           \n",
      "__________________________________________________________________________________________________\n",
      "block2_sepconv1_bn (BatchNormal (None, 147, 147, 128 512         block2_sepconv1[0][0]            \n",
      "__________________________________________________________________________________________________\n",
      "block2_sepconv2_act (Activation (None, 147, 147, 128 0           block2_sepconv1_bn[0][0]         \n",
      "__________________________________________________________________________________________________\n",
      "block2_sepconv2 (SeparableConv2 (None, 147, 147, 128 17536       block2_sepconv2_act[0][0]        \n",
      "__________________________________________________________________________________________________\n",
      "block2_sepconv2_bn (BatchNormal (None, 147, 147, 128 512         block2_sepconv2[0][0]            \n",
      "__________________________________________________________________________________________________\n",
      "conv2d (Conv2D)                 (None, 74, 74, 128)  8192        block1_conv2_act[0][0]           \n",
      "__________________________________________________________________________________________________\n",
      "block2_pool (MaxPooling2D)      (None, 74, 74, 128)  0           block2_sepconv2_bn[0][0]         \n",
      "__________________________________________________________________________________________________\n",
      "batch_normalization (BatchNorma (None, 74, 74, 128)  512         conv2d[0][0]                     \n",
      "__________________________________________________________________________________________________\n",
      "add (Add)                       (None, 74, 74, 128)  0           block2_pool[0][0]                \n",
      "                                                                 batch_normalization[0][0]        \n",
      "__________________________________________________________________________________________________\n",
      "block3_sepconv1_act (Activation (None, 74, 74, 128)  0           add[0][0]                        \n",
      "__________________________________________________________________________________________________\n",
      "block3_sepconv1 (SeparableConv2 (None, 74, 74, 256)  33920       block3_sepconv1_act[0][0]        \n",
      "__________________________________________________________________________________________________\n",
      "block3_sepconv1_bn (BatchNormal (None, 74, 74, 256)  1024        block3_sepconv1[0][0]            \n",
      "__________________________________________________________________________________________________\n",
      "block3_sepconv2_act (Activation (None, 74, 74, 256)  0           block3_sepconv1_bn[0][0]         \n",
      "__________________________________________________________________________________________________\n",
      "block3_sepconv2 (SeparableConv2 (None, 74, 74, 256)  67840       block3_sepconv2_act[0][0]        \n",
      "__________________________________________________________________________________________________\n",
      "block3_sepconv2_bn (BatchNormal (None, 74, 74, 256)  1024        block3_sepconv2[0][0]            \n",
      "__________________________________________________________________________________________________\n",
      "conv2d_1 (Conv2D)               (None, 37, 37, 256)  32768       add[0][0]                        \n",
      "__________________________________________________________________________________________________\n",
      "block3_pool (MaxPooling2D)      (None, 37, 37, 256)  0           block3_sepconv2_bn[0][0]         \n",
      "__________________________________________________________________________________________________\n",
      "batch_normalization_1 (BatchNor (None, 37, 37, 256)  1024        conv2d_1[0][0]                   \n",
      "__________________________________________________________________________________________________\n",
      "add_1 (Add)                     (None, 37, 37, 256)  0           block3_pool[0][0]                \n",
      "                                                                 batch_normalization_1[0][0]      \n",
      "__________________________________________________________________________________________________\n",
      "block4_sepconv1_act (Activation (None, 37, 37, 256)  0           add_1[0][0]                      \n",
      "__________________________________________________________________________________________________\n",
      "block4_sepconv1 (SeparableConv2 (None, 37, 37, 728)  188672      block4_sepconv1_act[0][0]        \n",
      "__________________________________________________________________________________________________\n",
      "block4_sepconv1_bn (BatchNormal (None, 37, 37, 728)  2912        block4_sepconv1[0][0]            \n",
      "__________________________________________________________________________________________________\n",
      "block4_sepconv2_act (Activation (None, 37, 37, 728)  0           block4_sepconv1_bn[0][0]         \n",
      "__________________________________________________________________________________________________\n",
      "block4_sepconv2 (SeparableConv2 (None, 37, 37, 728)  536536      block4_sepconv2_act[0][0]        \n",
      "__________________________________________________________________________________________________\n",
      "block4_sepconv2_bn (BatchNormal (None, 37, 37, 728)  2912        block4_sepconv2[0][0]            \n",
      "__________________________________________________________________________________________________\n",
      "conv2d_2 (Conv2D)               (None, 19, 19, 728)  186368      add_1[0][0]                      \n",
      "__________________________________________________________________________________________________\n",
      "block4_pool (MaxPooling2D)      (None, 19, 19, 728)  0           block4_sepconv2_bn[0][0]         \n",
      "__________________________________________________________________________________________________\n",
      "batch_normalization_2 (BatchNor (None, 19, 19, 728)  2912        conv2d_2[0][0]                   \n",
      "__________________________________________________________________________________________________\n",
      "add_2 (Add)                     (None, 19, 19, 728)  0           block4_pool[0][0]                \n",
      "                                                                 batch_normalization_2[0][0]      \n",
      "__________________________________________________________________________________________________\n",
      "block5_sepconv1_act (Activation (None, 19, 19, 728)  0           add_2[0][0]                      \n",
      "__________________________________________________________________________________________________\n",
      "block5_sepconv1 (SeparableConv2 (None, 19, 19, 728)  536536      block5_sepconv1_act[0][0]        \n",
      "__________________________________________________________________________________________________\n",
      "block5_sepconv1_bn (BatchNormal (None, 19, 19, 728)  2912        block5_sepconv1[0][0]            \n",
      "__________________________________________________________________________________________________\n",
      "block5_sepconv2_act (Activation (None, 19, 19, 728)  0           block5_sepconv1_bn[0][0]         \n",
      "__________________________________________________________________________________________________\n",
      "block5_sepconv2 (SeparableConv2 (None, 19, 19, 728)  536536      block5_sepconv2_act[0][0]        \n",
      "__________________________________________________________________________________________________\n",
      "block5_sepconv2_bn (BatchNormal (None, 19, 19, 728)  2912        block5_sepconv2[0][0]            \n",
      "__________________________________________________________________________________________________\n",
      "block5_sepconv3_act (Activation (None, 19, 19, 728)  0           block5_sepconv2_bn[0][0]         \n",
      "__________________________________________________________________________________________________\n",
      "block5_sepconv3 (SeparableConv2 (None, 19, 19, 728)  536536      block5_sepconv3_act[0][0]        \n",
      "__________________________________________________________________________________________________\n",
      "block5_sepconv3_bn (BatchNormal (None, 19, 19, 728)  2912        block5_sepconv3[0][0]            \n",
      "__________________________________________________________________________________________________\n",
      "add_3 (Add)                     (None, 19, 19, 728)  0           block5_sepconv3_bn[0][0]         \n",
      "                                                                 add_2[0][0]                      \n",
      "__________________________________________________________________________________________________\n",
      "block6_sepconv1_act (Activation (None, 19, 19, 728)  0           add_3[0][0]                      \n",
      "__________________________________________________________________________________________________\n",
      "block6_sepconv1 (SeparableConv2 (None, 19, 19, 728)  536536      block6_sepconv1_act[0][0]        \n",
      "__________________________________________________________________________________________________\n",
      "block6_sepconv1_bn (BatchNormal (None, 19, 19, 728)  2912        block6_sepconv1[0][0]            \n",
      "__________________________________________________________________________________________________\n",
      "block6_sepconv2_act (Activation (None, 19, 19, 728)  0           block6_sepconv1_bn[0][0]         \n",
      "__________________________________________________________________________________________________\n",
      "block6_sepconv2 (SeparableConv2 (None, 19, 19, 728)  536536      block6_sepconv2_act[0][0]        \n",
      "__________________________________________________________________________________________________\n",
      "block6_sepconv2_bn (BatchNormal (None, 19, 19, 728)  2912        block6_sepconv2[0][0]            \n",
      "__________________________________________________________________________________________________\n",
      "block6_sepconv3_act (Activation (None, 19, 19, 728)  0           block6_sepconv2_bn[0][0]         \n",
      "__________________________________________________________________________________________________\n",
      "block6_sepconv3 (SeparableConv2 (None, 19, 19, 728)  536536      block6_sepconv3_act[0][0]        \n",
      "__________________________________________________________________________________________________\n",
      "block6_sepconv3_bn (BatchNormal (None, 19, 19, 728)  2912        block6_sepconv3[0][0]            \n",
      "__________________________________________________________________________________________________\n",
      "add_4 (Add)                     (None, 19, 19, 728)  0           block6_sepconv3_bn[0][0]         \n",
      "                                                                 add_3[0][0]                      \n",
      "__________________________________________________________________________________________________\n",
      "block7_sepconv1_act (Activation (None, 19, 19, 728)  0           add_4[0][0]                      \n",
      "__________________________________________________________________________________________________\n",
      "block7_sepconv1 (SeparableConv2 (None, 19, 19, 728)  536536      block7_sepconv1_act[0][0]        \n",
      "__________________________________________________________________________________________________\n",
      "block7_sepconv1_bn (BatchNormal (None, 19, 19, 728)  2912        block7_sepconv1[0][0]            \n",
      "__________________________________________________________________________________________________\n",
      "block7_sepconv2_act (Activation (None, 19, 19, 728)  0           block7_sepconv1_bn[0][0]         \n",
      "__________________________________________________________________________________________________\n",
      "block7_sepconv2 (SeparableConv2 (None, 19, 19, 728)  536536      block7_sepconv2_act[0][0]        \n",
      "__________________________________________________________________________________________________\n",
      "block7_sepconv2_bn (BatchNormal (None, 19, 19, 728)  2912        block7_sepconv2[0][0]            \n",
      "__________________________________________________________________________________________________\n",
      "block7_sepconv3_act (Activation (None, 19, 19, 728)  0           block7_sepconv2_bn[0][0]         \n",
      "__________________________________________________________________________________________________\n",
      "block7_sepconv3 (SeparableConv2 (None, 19, 19, 728)  536536      block7_sepconv3_act[0][0]        \n",
      "__________________________________________________________________________________________________\n",
      "block7_sepconv3_bn (BatchNormal (None, 19, 19, 728)  2912        block7_sepconv3[0][0]            \n",
      "__________________________________________________________________________________________________\n",
      "add_5 (Add)                     (None, 19, 19, 728)  0           block7_sepconv3_bn[0][0]         \n",
      "                                                                 add_4[0][0]                      \n",
      "__________________________________________________________________________________________________\n",
      "block8_sepconv1_act (Activation (None, 19, 19, 728)  0           add_5[0][0]                      \n",
      "__________________________________________________________________________________________________\n",
      "block8_sepconv1 (SeparableConv2 (None, 19, 19, 728)  536536      block8_sepconv1_act[0][0]        \n",
      "__________________________________________________________________________________________________\n",
      "block8_sepconv1_bn (BatchNormal (None, 19, 19, 728)  2912        block8_sepconv1[0][0]            \n",
      "__________________________________________________________________________________________________\n",
      "block8_sepconv2_act (Activation (None, 19, 19, 728)  0           block8_sepconv1_bn[0][0]         \n",
      "__________________________________________________________________________________________________\n",
      "block8_sepconv2 (SeparableConv2 (None, 19, 19, 728)  536536      block8_sepconv2_act[0][0]        \n",
      "__________________________________________________________________________________________________\n",
      "block8_sepconv2_bn (BatchNormal (None, 19, 19, 728)  2912        block8_sepconv2[0][0]            \n",
      "__________________________________________________________________________________________________\n",
      "block8_sepconv3_act (Activation (None, 19, 19, 728)  0           block8_sepconv2_bn[0][0]         \n",
      "__________________________________________________________________________________________________\n",
      "block8_sepconv3 (SeparableConv2 (None, 19, 19, 728)  536536      block8_sepconv3_act[0][0]        \n",
      "__________________________________________________________________________________________________\n",
      "block8_sepconv3_bn (BatchNormal (None, 19, 19, 728)  2912        block8_sepconv3[0][0]            \n",
      "__________________________________________________________________________________________________\n",
      "add_6 (Add)                     (None, 19, 19, 728)  0           block8_sepconv3_bn[0][0]         \n",
      "                                                                 add_5[0][0]                      \n",
      "__________________________________________________________________________________________________\n",
      "block9_sepconv1_act (Activation (None, 19, 19, 728)  0           add_6[0][0]                      \n",
      "__________________________________________________________________________________________________\n",
      "block9_sepconv1 (SeparableConv2 (None, 19, 19, 728)  536536      block9_sepconv1_act[0][0]        \n",
      "__________________________________________________________________________________________________\n",
      "block9_sepconv1_bn (BatchNormal (None, 19, 19, 728)  2912        block9_sepconv1[0][0]            \n",
      "__________________________________________________________________________________________________\n",
      "block9_sepconv2_act (Activation (None, 19, 19, 728)  0           block9_sepconv1_bn[0][0]         \n",
      "__________________________________________________________________________________________________\n",
      "block9_sepconv2 (SeparableConv2 (None, 19, 19, 728)  536536      block9_sepconv2_act[0][0]        \n",
      "__________________________________________________________________________________________________\n",
      "block9_sepconv2_bn (BatchNormal (None, 19, 19, 728)  2912        block9_sepconv2[0][0]            \n",
      "__________________________________________________________________________________________________\n",
      "block9_sepconv3_act (Activation (None, 19, 19, 728)  0           block9_sepconv2_bn[0][0]         \n",
      "__________________________________________________________________________________________________\n",
      "block9_sepconv3 (SeparableConv2 (None, 19, 19, 728)  536536      block9_sepconv3_act[0][0]        \n",
      "__________________________________________________________________________________________________\n",
      "block9_sepconv3_bn (BatchNormal (None, 19, 19, 728)  2912        block9_sepconv3[0][0]            \n",
      "__________________________________________________________________________________________________\n",
      "add_7 (Add)                     (None, 19, 19, 728)  0           block9_sepconv3_bn[0][0]         \n",
      "                                                                 add_6[0][0]                      \n",
      "__________________________________________________________________________________________________\n",
      "block10_sepconv1_act (Activatio (None, 19, 19, 728)  0           add_7[0][0]                      \n",
      "__________________________________________________________________________________________________\n",
      "block10_sepconv1 (SeparableConv (None, 19, 19, 728)  536536      block10_sepconv1_act[0][0]       \n",
      "__________________________________________________________________________________________________\n",
      "block10_sepconv1_bn (BatchNorma (None, 19, 19, 728)  2912        block10_sepconv1[0][0]           \n",
      "__________________________________________________________________________________________________\n",
      "block10_sepconv2_act (Activatio (None, 19, 19, 728)  0           block10_sepconv1_bn[0][0]        \n",
      "__________________________________________________________________________________________________\n",
      "block10_sepconv2 (SeparableConv (None, 19, 19, 728)  536536      block10_sepconv2_act[0][0]       \n",
      "__________________________________________________________________________________________________\n",
      "block10_sepconv2_bn (BatchNorma (None, 19, 19, 728)  2912        block10_sepconv2[0][0]           \n",
      "__________________________________________________________________________________________________\n",
      "block10_sepconv3_act (Activatio (None, 19, 19, 728)  0           block10_sepconv2_bn[0][0]        \n",
      "__________________________________________________________________________________________________\n",
      "block10_sepconv3 (SeparableConv (None, 19, 19, 728)  536536      block10_sepconv3_act[0][0]       \n",
      "__________________________________________________________________________________________________\n",
      "block10_sepconv3_bn (BatchNorma (None, 19, 19, 728)  2912        block10_sepconv3[0][0]           \n",
      "__________________________________________________________________________________________________\n",
      "add_8 (Add)                     (None, 19, 19, 728)  0           block10_sepconv3_bn[0][0]        \n",
      "                                                                 add_7[0][0]                      \n",
      "__________________________________________________________________________________________________\n",
      "block11_sepconv1_act (Activatio (None, 19, 19, 728)  0           add_8[0][0]                      \n",
      "__________________________________________________________________________________________________\n",
      "block11_sepconv1 (SeparableConv (None, 19, 19, 728)  536536      block11_sepconv1_act[0][0]       \n",
      "__________________________________________________________________________________________________\n",
      "block11_sepconv1_bn (BatchNorma (None, 19, 19, 728)  2912        block11_sepconv1[0][0]           \n",
      "__________________________________________________________________________________________________\n",
      "block11_sepconv2_act (Activatio (None, 19, 19, 728)  0           block11_sepconv1_bn[0][0]        \n",
      "__________________________________________________________________________________________________\n",
      "block11_sepconv2 (SeparableConv (None, 19, 19, 728)  536536      block11_sepconv2_act[0][0]       \n",
      "__________________________________________________________________________________________________\n",
      "block11_sepconv2_bn (BatchNorma (None, 19, 19, 728)  2912        block11_sepconv2[0][0]           \n",
      "__________________________________________________________________________________________________\n",
      "block11_sepconv3_act (Activatio (None, 19, 19, 728)  0           block11_sepconv2_bn[0][0]        \n",
      "__________________________________________________________________________________________________\n",
      "block11_sepconv3 (SeparableConv (None, 19, 19, 728)  536536      block11_sepconv3_act[0][0]       \n",
      "__________________________________________________________________________________________________\n",
      "block11_sepconv3_bn (BatchNorma (None, 19, 19, 728)  2912        block11_sepconv3[0][0]           \n",
      "__________________________________________________________________________________________________\n",
      "add_9 (Add)                     (None, 19, 19, 728)  0           block11_sepconv3_bn[0][0]        \n",
      "                                                                 add_8[0][0]                      \n",
      "__________________________________________________________________________________________________\n",
      "block12_sepconv1_act (Activatio (None, 19, 19, 728)  0           add_9[0][0]                      \n",
      "__________________________________________________________________________________________________\n",
      "block12_sepconv1 (SeparableConv (None, 19, 19, 728)  536536      block12_sepconv1_act[0][0]       \n",
      "__________________________________________________________________________________________________\n",
      "block12_sepconv1_bn (BatchNorma (None, 19, 19, 728)  2912        block12_sepconv1[0][0]           \n",
      "__________________________________________________________________________________________________\n",
      "block12_sepconv2_act (Activatio (None, 19, 19, 728)  0           block12_sepconv1_bn[0][0]        \n",
      "__________________________________________________________________________________________________\n",
      "block12_sepconv2 (SeparableConv (None, 19, 19, 728)  536536      block12_sepconv2_act[0][0]       \n",
      "__________________________________________________________________________________________________\n",
      "block12_sepconv2_bn (BatchNorma (None, 19, 19, 728)  2912        block12_sepconv2[0][0]           \n",
      "__________________________________________________________________________________________________\n",
      "block12_sepconv3_act (Activatio (None, 19, 19, 728)  0           block12_sepconv2_bn[0][0]        \n",
      "__________________________________________________________________________________________________\n",
      "block12_sepconv3 (SeparableConv (None, 19, 19, 728)  536536      block12_sepconv3_act[0][0]       \n",
      "__________________________________________________________________________________________________\n",
      "block12_sepconv3_bn (BatchNorma (None, 19, 19, 728)  2912        block12_sepconv3[0][0]           \n",
      "__________________________________________________________________________________________________\n",
      "add_10 (Add)                    (None, 19, 19, 728)  0           block12_sepconv3_bn[0][0]        \n",
      "                                                                 add_9[0][0]                      \n",
      "__________________________________________________________________________________________________\n",
      "block13_sepconv1_act (Activatio (None, 19, 19, 728)  0           add_10[0][0]                     \n",
      "__________________________________________________________________________________________________\n",
      "block13_sepconv1 (SeparableConv (None, 19, 19, 728)  536536      block13_sepconv1_act[0][0]       \n",
      "__________________________________________________________________________________________________\n",
      "block13_sepconv1_bn (BatchNorma (None, 19, 19, 728)  2912        block13_sepconv1[0][0]           \n",
      "__________________________________________________________________________________________________\n",
      "block13_sepconv2_act (Activatio (None, 19, 19, 728)  0           block13_sepconv1_bn[0][0]        \n",
      "__________________________________________________________________________________________________\n",
      "block13_sepconv2 (SeparableConv (None, 19, 19, 1024) 752024      block13_sepconv2_act[0][0]       \n",
      "__________________________________________________________________________________________________\n",
      "block13_sepconv2_bn (BatchNorma (None, 19, 19, 1024) 4096        block13_sepconv2[0][0]           \n",
      "__________________________________________________________________________________________________\n",
      "conv2d_3 (Conv2D)               (None, 10, 10, 1024) 745472      add_10[0][0]                     \n",
      "__________________________________________________________________________________________________\n",
      "block13_pool (MaxPooling2D)     (None, 10, 10, 1024) 0           block13_sepconv2_bn[0][0]        \n",
      "__________________________________________________________________________________________________\n",
      "batch_normalization_3 (BatchNor (None, 10, 10, 1024) 4096        conv2d_3[0][0]                   \n",
      "__________________________________________________________________________________________________\n",
      "add_11 (Add)                    (None, 10, 10, 1024) 0           block13_pool[0][0]               \n",
      "                                                                 batch_normalization_3[0][0]      \n",
      "__________________________________________________________________________________________________\n",
      "block14_sepconv1 (SeparableConv (None, 10, 10, 1536) 1582080     add_11[0][0]                     \n",
      "__________________________________________________________________________________________________\n",
      "block14_sepconv1_bn (BatchNorma (None, 10, 10, 1536) 6144        block14_sepconv1[0][0]           \n",
      "__________________________________________________________________________________________________\n",
      "block14_sepconv1_act (Activatio (None, 10, 10, 1536) 0           block14_sepconv1_bn[0][0]        \n",
      "__________________________________________________________________________________________________\n",
      "block14_sepconv2 (SeparableConv (None, 10, 10, 2048) 3159552     block14_sepconv1_act[0][0]       \n",
      "__________________________________________________________________________________________________\n",
      "block14_sepconv2_bn (BatchNorma (None, 10, 10, 2048) 8192        block14_sepconv2[0][0]           \n",
      "__________________________________________________________________________________________________\n",
      "block14_sepconv2_act (Activatio (None, 10, 10, 2048) 0           block14_sepconv2_bn[0][0]        \n",
      "==================================================================================================\n",
      "Total params: 20,861,480\n",
      "Trainable params: 20,806,952\n",
      "Non-trainable params: 54,528\n",
      "__________________________________________________________________________________________________\n"
     ]
    }
   ],
   "source": [
    "convolution_base.summary()"
   ]
  },
  {
   "cell_type": "markdown",
   "metadata": {
    "jupyter": {
     "source_hidden": true
    }
   },
   "source": [
    "Data Augmentation : \n",
    "    \n",
    "##### 餐考資料 : https://zhuanlan.zhihu.com/p/30197320\n",
    "    \n",
    "1. 從整個Dataset將圖片標準化: \n",
    "   featurewise_center=True,  \n",
    "   featurewise_std_normalization=True ,  \n",
    "   \n",
    "2. 從自身圖片標準化: \n",
    "   samplewise_center=True, \n",
    "   \n",
    "3. 保留最重要特徵:\n",
    "   zca_whitening=True,\n",
    "   \n",
    "4. 旋轉圖片角度: \n",
    "   rotation_range = 30,\n",
    "   \n",
    "5. 左右長度平移 / 上下長度平移\n",
    "   width_shift_range =0.2, \n",
    "   height_shift_range = 0.2,\n",
    "   \n",
    "6. 圖形各種梯形轉換\n",
    "   hear_range = 0.3,\n",
    "   \n",
    "7. 圖片大小縮放\n",
    "   zoom_range = 0.3, \n",
    "   \n",
    "8. 圖片色階轉換\n",
    "   channel_shift_range = 10\n",
    "   \n",
    "9. 隨機圖片水平翻轉 / 隨機圖片垂直顛倒\n",
    "   horizontal_flip = True, vertical_flip = True,\n",
    "   \n",
    "10. 將像素質縮小以避免落入activation function之死亡區\n",
    "    rescale = 1./255, \n",
    "    \n",
    "11. fill_mode = 'constant'  or ( “reflect”、“wrap”、“nearest”)\n",
    "    fill_mode为填充模式，如前面提到，当对图片进行平移、放缩、错切等操作时，图片中会出现一些缺失的地方，那这些缺失的地方该用什么方式补全呢？就由fill_mode中的参数确定，包括：“constant”、“nearest”（默认）、“reflect”和“wrap”。这四种填充方式的效果对比如图18所示，从左到右，从上到下分别为：“reflect”、“wrap”、“nearest”、“constant”。\n",
    "\n",
    "12. preprocessing_function = myFunc, \n",
    "           "
   ]
  },
  {
   "cell_type": "code",
   "execution_count": null,
   "metadata": {},
   "outputs": [
    {
     "name": "stderr",
     "output_type": "stream",
     "text": [
      "C:\\Users\\user\\anaconda3new\\lib\\site-packages\\keras_preprocessing\\image\\image_data_generator.py:341: UserWarning: This ImageDataGenerator specifies `zca_whitening` which overrides setting of`featurewise_std_normalization`.\n",
      "  warnings.warn('This ImageDataGenerator specifies '\n"
     ]
    },
    {
     "name": "stdout",
     "output_type": "stream",
     "text": [
      "Found 536 images belonging to 10 classes.\n",
      "Found 132 images belonging to 10 classes.\n"
     ]
    }
   ],
   "source": [
    "#Import train 好的 Xception Model (路徑在調整)\n",
    "top_weights_path = os.path.join(os.path.abspath('./models'), 'Xception_top_model_weight_v5.h5')\n",
    "\n",
    "#設定執行狀況回復指令 & Earlystop\n",
    "callbacks_list = [\n",
    "        ModelCheckpoint(top_weights_path, monitor='val_acc', verbose=1, save_best_only=True),\n",
    "        EarlyStopping(monitor='val_acc', patience= 5, verbose=0)\n",
    "    ]\n",
    "\n",
    "def myFunc(image):\n",
    "    image = np.array(image)\n",
    "    image = image - np.array([123.68,116.779,103.939])\n",
    "    image = image[:,:,::-1]\n",
    "    return image\n",
    "\n",
    "\n",
    "train_datagen = ImageDataGenerator(\n",
    "            \n",
    "            preprocessing_function = myFunc, \n",
    "            featurewise_center=True,  \n",
    "            featurewise_std_normalization=True , #從整個Dataset將圖片標準化 \n",
    "            samplewise_center=True, #從自身圖片標準化\n",
    "            zca_whitening=True, # 保留最重要特徵\n",
    "          \n",
    "            rotation_range = 10, #顧名思義旋轉圖片角度\n",
    "            width_shift_range =0.1, #左右長度平移\n",
    "            height_shift_range = 0.1, #上下長度平移\n",
    "            shear_range = 0.1, #圖形各種梯形轉換\n",
    "            zoom_range = [0.2,1], #圖片大小縮放\n",
    "            horizontal_flip = True, #隨機圖片水平翻轉\n",
    "            vertical_flip = True, #隨機圖片垂直顛倒\n",
    "            channel_shift_range = 20, #圖片色階轉換\n",
    "            rescale = 1./255,   #將像素質縮小以避免落入activation function之死亡區\n",
    "    \n",
    "            brightness_range=[0,1],\n",
    "            fill_mode = 'nearest')\n",
    "\n",
    "test_datagen = ImageDataGenerator(rescale = 1./255,\n",
    "                                   preprocessing_function = myFunc) \n",
    "\n",
    "\n",
    "train_generator = train_datagen.flow_from_directory(\n",
    "                Train_dir,\n",
    "                target_size = (299,299),\n",
    "                batch_size = 15,\n",
    "                class_mode = 'categorical')\n",
    "\n",
    "Test_generator = test_datagen.flow_from_directory(\n",
    "                    Test_dir,\n",
    "                    target_size = (299,299),\n",
    "                    batch_size = 12,\n",
    "                    class_mode = 'categorical')\n",
    "\n",
    "model.compile(loss = 'categorical_crossentropy',\n",
    "             optimizer = optimizers.Adam(lr = 0.0001),\n",
    "                metrics = ['acc'])"
   ]
  },
  {
   "cell_type": "code",
   "execution_count": null,
   "metadata": {
    "scrolled": true
   },
   "outputs": [
    {
     "name": "stderr",
     "output_type": "stream",
     "text": [
      "C:\\Users\\user\\anaconda3new\\lib\\site-packages\\keras_preprocessing\\image\\image_data_generator.py:716: UserWarning: This ImageDataGenerator specifies `featurewise_center`, but it hasn't been fit on any training data. Fit it first by calling `.fit(numpy_data)`.\n",
      "  warnings.warn('This ImageDataGenerator specifies '\n",
      "C:\\Users\\user\\anaconda3new\\lib\\site-packages\\keras_preprocessing\\image\\image_data_generator.py:735: UserWarning: This ImageDataGenerator specifies `zca_whitening`, but it hasn't been fit on any training data. Fit it first by calling `.fit(numpy_data)`.\n",
      "  warnings.warn('This ImageDataGenerator specifies '\n"
     ]
    },
    {
     "name": "stdout",
     "output_type": "stream",
     "text": [
      "Epoch 1/25\n"
     ]
    },
    {
     "name": "stderr",
     "output_type": "stream",
     "text": [
      "C:\\Users\\user\\anaconda3new\\lib\\site-packages\\keras_preprocessing\\image\\image_data_generator.py:716: UserWarning: This ImageDataGenerator specifies `featurewise_center`, but it hasn't been fit on any training data. Fit it first by calling `.fit(numpy_data)`.\n",
      "  warnings.warn('This ImageDataGenerator specifies '\n",
      "C:\\Users\\user\\anaconda3new\\lib\\site-packages\\keras_preprocessing\\image\\image_data_generator.py:735: UserWarning: This ImageDataGenerator specifies `zca_whitening`, but it hasn't been fit on any training data. Fit it first by calling `.fit(numpy_data)`.\n",
      "  warnings.warn('This ImageDataGenerator specifies '\n"
     ]
    },
    {
     "name": "stdout",
     "output_type": "stream",
     "text": [
      "\r",
      " 1/10 [==>...........................] - ETA: 10:30 - loss: 2.4838 - acc: 0.0000e+00"
     ]
    }
   ],
   "source": [
    "history = model.fit_generator(\n",
    "            train_generator,\n",
    "            steps_per_epoch = 100,\n",
    "            epochs = 25,\n",
    "            validation_data = Test_generator,\n",
    "            validation_steps = 13,\n",
    "            callbacks = callbacks_list)"
   ]
  },
  {
   "cell_type": "code",
   "execution_count": null,
   "metadata": {},
   "outputs": [],
   "source": [
    "import matplotlib.pyplot as plt\n",
    "%matplotlib inline\n",
    "acc = history.history['acc']\n",
    "val_acc = history.history['val_acc']\n",
    "loss = history.history['loss']\n",
    "val_loss = history.history['val_loss']\n",
    "\n",
    "epochs = range(1, len(acc)+1)\n",
    "\n",
    "\n",
    "plt.plot(epochs, acc, 'b', label = 'Training acc')\n",
    "plt.plot(epochs, val_acc, 'b',label = 'Validation acc',color = 'red')\n",
    "plt.title('Training and validation accuracy')\n",
    "plt.legend()\n",
    "\n",
    "plt.figure()\n",
    "\n",
    "\n",
    "plt.plot(epochs, loss, 'b', label = 'Training loss')\n",
    "plt.plot(epochs, val_loss, 'b', label = 'Validation loss',color = 'red')\n",
    "plt.title('Training and validation loss')\n",
    "\n",
    "plt.show()"
   ]
  },
  {
   "cell_type": "code",
   "execution_count": 14,
   "metadata": {},
   "outputs": [
    {
     "name": "stdout",
     "output_type": "stream",
     "text": [
      "Found 132 images belonging to 10 classes.\n",
      "9/9 [==============================] - 1s 144ms/step - loss: 0.3739 - acc: 0.8864\n",
      "9/9 [==============================] - 1s 135ms/step\n",
      "Confusion Matrix\n",
      "[[13  0  0  0  0  0  0  0  0  0]\n",
      " [ 0 11  0  0  0  0  1  0  0  0]\n",
      " [ 0  0  1  2  0  0  0  0  6  0]\n",
      " [ 0  0  0 16  0  0  0  0  0  0]\n",
      " [ 0  0  0  0 17  0  0  0  0  0]\n",
      " [ 0  0  0  0  0 11  0  0  1  0]\n",
      " [ 0  1  0  0  0  0 11  0  0  0]\n",
      " [ 0  0  0  0  0  0  0 10  0  0]\n",
      " [ 0  0  0  0  0  1  0  1 10  1]\n",
      " [ 0  0  0  0  0  0  0  1  0 17]]\n",
      "Classification Report\n",
      "              precision    recall  f1-score   support\n",
      "\n",
      "          18       1.00      1.00      1.00        13\n",
      "       Ellie       0.92      0.92      0.92        12\n",
      "       Jerry       1.00      0.11      0.20         9\n",
      "   Prof.Kang       0.89      1.00      0.94        16\n",
      "     Rockman       1.00      1.00      1.00        17\n",
      "      Yoshit       0.92      0.92      0.92        12\n",
      "        lala       0.92      0.92      0.92        12\n",
      "         tan       0.83      1.00      0.91        10\n",
      "         tim       0.59      0.77      0.67        13\n",
      "         wwk       0.94      0.94      0.94        18\n",
      "\n",
      "    accuracy                           0.89       132\n",
      "   macro avg       0.90      0.86      0.84       132\n",
      "weighted avg       0.90      0.89      0.87       132\n",
      "\n"
     ]
    }
   ],
   "source": [
    "from sklearn.metrics import classification_report, confusion_matrix\n",
    "\n",
    "\n",
    "validation_generator = test_datagen.flow_from_directory(\n",
    "                    Test_dir,\n",
    "                    target_size = (299, 299),\n",
    "                    batch_size = 15,\n",
    "                    shuffle = False,\n",
    "                    class_mode = 'categorical')\n",
    "\n",
    "model.evaluate_generator(validation_generator,verbose=1)\n",
    "\n",
    "from sklearn.metrics import classification_report, confusion_matrix\n",
    "Y_pred = model.predict_generator(validation_generator,verbose=1)\n",
    "y_pred = np.argmax(Y_pred, axis=1)\n",
    "\n",
    "print('Confusion Matrix')\n",
    "print(confusion_matrix(validation_generator.classes, y_pred))\n",
    "print('Classification Report')\n",
    "target_names = list(validation_generator.class_indices.keys())\n",
    "print(classification_report(validation_generator.classes, y_pred, target_names=target_names))"
   ]
  },
  {
   "cell_type": "code",
   "execution_count": 15,
   "metadata": {},
   "outputs": [
    {
     "name": "stdout",
     "output_type": "stream",
     "text": [
      "Wrong Name :  Ellie/IMG_0042.jpg\n",
      "Actually 1\n",
      "Machine Predict 6\n",
      " \n",
      "Wrong Name :  Jerry/IMG_1496.jpg\n",
      "Actually 2\n",
      "Machine Predict 8\n",
      " \n",
      "Wrong Name :  Jerry/IMG_1525.jpg\n",
      "Actually 2\n",
      "Machine Predict 3\n",
      " \n",
      "Wrong Name :  Jerry/IMG_1526.jpg\n",
      "Actually 2\n",
      "Machine Predict 3\n",
      " \n",
      "Wrong Name :  Jerry/S__27599002.jpg\n",
      "Actually 2\n",
      "Machine Predict 8\n",
      " \n",
      "Wrong Name :  Jerry/S__27599004.jpg\n",
      "Actually 2\n",
      "Machine Predict 8\n",
      " \n",
      "Wrong Name :  Jerry/S__27599005.jpg\n",
      "Actually 2\n",
      "Machine Predict 8\n",
      " \n",
      "Wrong Name :  Jerry/S__27599006.jpg\n",
      "Actually 2\n",
      "Machine Predict 8\n",
      " \n",
      "Wrong Name :  Jerry/S__27599018.jpg\n",
      "Actually 2\n",
      "Machine Predict 8\n",
      " \n",
      "Wrong Name :  Yoshit/IMG_1544.jpg\n",
      "Actually 5\n",
      "Machine Predict 8\n",
      " \n",
      "Wrong Name :  lala/IMG_9539.jpg\n",
      "Actually 6\n",
      "Machine Predict 1\n",
      " \n",
      "Wrong Name :  tim/00100lPORTRAIT_00100_BURST20181201085911494_COVER.jpg\n",
      "Actually 8\n",
      "Machine Predict 5\n",
      " \n",
      "Wrong Name :  tim/IMG_20191105_115022.jpg\n",
      "Actually 8\n",
      "Machine Predict 9\n",
      " \n",
      "Wrong Name :  tim/IMG_9459.jpg\n",
      "Actually 8\n",
      "Machine Predict 7\n",
      " \n",
      "Wrong Name :  wwk/IMG_1550.jpg\n",
      "Actually 9\n",
      "Machine Predict 7\n",
      " \n"
     ]
    }
   ],
   "source": [
    "import cv2\n",
    "for x in range(len(validation_generator.filenames)):\n",
    "    if y_pred[x] != validation_generator.classes[x]:\n",
    "        print('Wrong Name : ',validation_generator.filenames[x])\n",
    "        print('Actually', validation_generator.classes[x])\n",
    "        print('Machine Predict',y_pred[x])\n",
    "        print(\" \")"
   ]
  },
  {
   "cell_type": "code",
   "execution_count": 16,
   "metadata": {},
   "outputs": [],
   "source": [
    "import matplotlib.pyplot as plt\n",
    "import numpy as np\n",
    "import cv2\n",
    "\n",
    "from tensorflow.keras.preprocessing.image import ImageDataGenerator, load_img, img_to_array\n",
    "from matplotlib.pylab import rcParams\n",
    "rcParams['figure.figsize'] = 15, 10\n",
    "img_gen = ImageDataGenerator(  \n",
    "        rotation_range=50,\n",
    "        width_shift_range=0.3,\n",
    "        height_shift_range=0.5,\n",
    "        shear_range=0.2,\n",
    "        zoom_range=0.5,\n",
    "        horizontal_flip=True,\n",
    "        fill_mode='constant',\n",
    "        cval=0)\n",
    "\n",
    "for i in range(len(validation_generator.filenames)):\n",
    "    if y_pred[x] != validation_generator.classes[x]:\n",
    "        \n",
    "        \n",
    "        print('Wrong Name : ',validation_generator.filenames[x])\n",
    "        print('Actually', validation_generator.classes[x])\n",
    "        print('Machine Predict',y_pred[x])\n",
    "        print(\" \")\n",
    "        "
   ]
  },
  {
   "cell_type": "markdown",
   "metadata": {},
   "source": [
    "# Save Model as..."
   ]
  },
  {
   "cell_type": "code",
   "execution_count": 33,
   "metadata": {},
   "outputs": [],
   "source": [
    "#from tqdm import tqdm\n",
    "import glob\n",
    "import cv2\n",
    "import numpy as np\n",
    "img_paths = glob.glob('./test_datasets_v2/*.jpg')\n",
    "images = []\n",
    "img_sizes = []\n",
    "ids = []\n",
    "for img_path in img_paths:\n",
    "    ids.append(img_path.split(\"/\")[-1].split(\".\")[0])\n",
    "    img = cv2.imread(img_path)\n",
    "    img = cv2.cvtColor(img, cv2.COLOR_BGR2RGB)\n",
    "    img = cv2.resize(img, (299, 299))\n",
    "    img = np.array(img)\n",
    "    img = img - np.array([123.68,116.779,103.939])\n",
    "    img = img[:,:,::-1]\n",
    "    if img.shape not in img_sizes:\n",
    "        img_sizes.append(img.shape)\n",
    "\n",
    "    images.append(img)\n",
    "\n",
    "images_1 = np.array(images)\n",
    "x_Test4D = images_1.reshape(images_1.shape[0],299,299,3).astype('float32') \n",
    "x_Test4D_normalize = x_Test4D/255"
   ]
  },
  {
   "cell_type": "code",
   "execution_count": 34,
   "metadata": {},
   "outputs": [],
   "source": [
    "model.save('./MYmodels/Xception7.h5')\n",
    "model.predict_classes\n",
    "predict_value = model.predict_classes(x_Test4D_normalize)"
   ]
  },
  {
   "cell_type": "code",
   "execution_count": 35,
   "metadata": {},
   "outputs": [
    {
     "data": {
      "text/plain": [
       "array([1, 7, 4, 4, 4, 4, 9, 9, 7, 3, 9, 8, 9, 0, 8, 4, 4, 4, 6, 9, 5, 3,\n",
       "       0, 9, 3, 0, 4, 5, 5, 8, 3, 0, 6, 9, 4, 9, 3, 3, 6, 3, 6, 0, 0, 9,\n",
       "       5, 1, 4, 9, 1, 4, 8, 6, 5, 0, 3, 0, 8, 8, 5, 0, 0, 1, 9, 5, 3, 2,\n",
       "       6, 1, 6, 0, 4, 4, 6, 5, 5, 3, 4, 3, 5, 7, 9, 6, 5, 0, 6, 6, 5, 7,\n",
       "       3, 5, 4, 8, 1, 6, 9, 3, 8, 8, 5, 5, 7, 3, 9, 9, 7, 6, 0, 7, 4, 5,\n",
       "       8, 8, 1, 5, 6, 8, 4, 3, 0, 9, 9, 8, 9, 6, 3, 8, 7, 1, 0, 1, 7, 0])"
      ]
     },
     "execution_count": 35,
     "metadata": {},
     "output_type": "execute_result"
    }
   ],
   "source": [
    "model.predict_classes\n",
    "predict_value = model.predict_classes(x_Test4D_normalize)\n",
    "predict_value"
   ]
  },
  {
   "cell_type": "code",
   "execution_count": 66,
   "metadata": {
    "jupyter": {
     "source_hidden": true
    }
   },
   "outputs": [],
   "source": [
    "predict_value = model.predict_classes(x_Test4D_normalize)\n",
    "\n",
    "import numpy as np\n",
    "z = np.array([1,2])\n",
    "z[1] = 6"
   ]
  },
  {
   "cell_type": "code",
   "execution_count": 28,
   "metadata": {
    "collapsed": true,
    "jupyter": {
     "outputs_hidden": true,
     "source_hidden": true
    }
   },
   "outputs": [
    {
     "data": {
      "text/plain": [
       "array([  0,   1,   2,   3,   4,   5,   6,   7,   8,   9,  10,  11,  12,\n",
       "        13,  14,  15,  16,  17,  18,  19,  20,  21,  22,  23,  24,  25,\n",
       "        26,  27,  28,  29,  30,  31,  32,  33,  34,  35,  36,  37,  38,\n",
       "        39,  40,  41,  42,  43,  44,  45,  46,  47,  48,  49,  50,  51,\n",
       "        52,  53,  54,  55,  56,  57,  58,  59,  60,  61,  62,  63,  64,\n",
       "        65,  66,  67,  68,  69,  70,  71,  72,  73,  74,  75,  76,  77,\n",
       "        78,  79,  80,  81,  82,  83,  84,  85,  86,  87,  88,  89,  90,\n",
       "        91,  92,  93,  94,  95,  96,  97,  98,  99, 100, 101, 102, 103,\n",
       "       104, 105, 106, 107, 108, 109, 110, 111, 112, 113, 114, 115, 116,\n",
       "       117, 118, 119, 120, 121, 122, 123, 124, 125, 126, 127, 128, 129,\n",
       "       130, 131])"
      ]
     },
     "execution_count": 28,
     "metadata": {},
     "output_type": "execute_result"
    }
   ],
   "source": [
    "# 1.將數值依照順序排列 才可設迴圈\n",
    "\n",
    "# 2.迴圈要怎麼設?\n",
    "    # a.將數值依照順序排列 : np.arange(len(predict_value)):\n",
    "    # b.用for依序跑array : \n",
    "    # c.設判斷式 : 判斷甚麼? ->判斷predict_value裡面的值 並用它自己(predict_value)取代原先判斷式的值"
   ]
  },
  {
   "cell_type": "code",
   "execution_count": 39,
   "metadata": {
    "collapsed": true,
    "jupyter": {
     "outputs_hidden": true,
     "source_hidden": true
    }
   },
   "outputs": [
    {
     "data": {
      "text/plain": [
       "array([2, 7, 4, 4, 4, 4, 9, 9, 7, 3, 9, 8, 9, 0, 8, 4, 4, 4, 6, 9, 5, 7,\n",
       "       0, 9, 3, 0, 4, 5, 5, 8, 3, 0, 6, 9, 4, 9, 3, 3, 6, 2, 6, 7, 0, 9,\n",
       "       5, 2, 4, 9, 2, 4, 8, 6, 5, 0, 3, 0, 9, 8, 5, 0, 0, 2, 9, 5, 3, 3,\n",
       "       2, 2, 6, 0, 4, 4, 6, 5, 5, 3, 4, 3, 5, 7, 9, 6, 5, 0, 6, 6, 5, 7,\n",
       "       3, 5, 4, 8, 2, 6, 9, 3, 8, 8, 5, 4, 7, 3, 9, 9, 7, 2, 0, 7, 4, 4,\n",
       "       8, 8, 2, 5, 6, 8, 4, 3, 0, 9, 9, 4, 9, 6, 3, 8, 7, 2, 0, 2, 7, 7])"
      ]
     },
     "execution_count": 39,
     "metadata": {},
     "output_type": "execute_result"
    }
   ],
   "source": [
    "import numpy as np \n",
    "np.arange(len(predict_value)) #a\n",
    "\n",
    "for i in np.arange(len(predict_value)):\n",
    "    if predict_value[i] == 1 : \n",
    "        predict_value[i] = 2"
   ]
  },
  {
   "cell_type": "code",
   "execution_count": 54,
   "metadata": {
    "collapsed": true,
    "jupyter": {
     "outputs_hidden": true,
     "source_hidden": true
    }
   },
   "outputs": [
    {
     "data": {
      "text/plain": [
       "dict"
      ]
     },
     "execution_count": 54,
     "metadata": {},
     "output_type": "execute_result"
    }
   ],
   "source": [
    "type(class_mapping)"
   ]
  },
  {
   "cell_type": "code",
   "execution_count": 57,
   "metadata": {
    "collapsed": true,
    "jupyter": {
     "outputs_hidden": true,
     "source_hidden": true
    }
   },
   "outputs": [
    {
     "data": {
      "text/plain": [
       "2"
      ]
     },
     "execution_count": 57,
     "metadata": {},
     "output_type": "execute_result"
    }
   ],
   "source": [
    "classes\n",
    "classes[1]"
   ]
  },
  {
   "cell_type": "code",
   "execution_count": 17,
   "metadata": {
    "collapsed": true,
    "jupyter": {
     "outputs_hidden": true,
     "source_hidden": true
    }
   },
   "outputs": [
    {
     "data": {
      "text/plain": [
       "array([1, 7, 2, 2, 2, 2, 4, 4, 7, 5, 4, 8, 4, 0, 8, 2, 2, 2, 6, 4, 3, 7,\n",
       "       0, 4, 5, 0, 2, 3, 3, 8, 5, 0, 6, 4, 2, 4, 5, 5, 6, 5, 6, 7, 7, 4,\n",
       "       3, 1, 2, 4, 1, 2, 8, 6, 3, 0, 5, 0, 4, 8, 3, 0, 0, 1, 4, 3, 5, 9,\n",
       "       1, 1, 6, 0, 2, 2, 6, 3, 3, 5, 2, 5, 8, 7, 4, 6, 3, 0, 6, 6, 3, 7,\n",
       "       5, 3, 2, 8, 1, 6, 4, 5, 8, 8, 3, 5, 7, 5, 4, 4, 7, 1, 0, 7, 2, 5,\n",
       "       8, 8, 1, 3, 6, 8, 2, 5, 0, 4, 4, 8, 4, 6, 5, 8, 7, 1, 0, 1, 7, 4])"
      ]
     },
     "execution_count": 17,
     "metadata": {},
     "output_type": "execute_result"
    }
   ],
   "source": [
    "predict_value = model.predict_classes(x_Test4D_normalize)\n",
    "\n",
    "import numpy as np \n",
    "np.arange(len(predict_value))\n",
    "classes = np.array([0,1,2,3,4,5,6,7,8,9])\n",
    "\n",
    "\n",
    "# for l in classes: \n",
    "for i in np.arange(len(predict_value)): \n",
    "          if predict_value[i] == classes[2] : predict_value[i] = classes[9]\n",
    "          elif predict_value[i] == classes[3] : predict_value[i] = classes[5]\n",
    "          elif predict_value[i] == classes[4] : predict_value[i] = classes[2]\n",
    "          elif predict_value[i] == classes[5] : predict_value[i] = classes[3]\n",
    "          elif predict_value[i] == classes[9] : predict_value[i] = classes[4]\n",
    "          else: predict_value[i] = predict_value[i]\n",
    "            \n",
    "predict_value"
   ]
  },
  {
   "cell_type": "code",
   "execution_count": 67,
   "metadata": {
    "collapsed": true,
    "jupyter": {
     "outputs_hidden": true,
     "source_hidden": true
    }
   },
   "outputs": [
    {
     "data": {
      "text/plain": [
       "array([1, 7, 4, 4, 4, 4, 9, 9, 7, 3, 9, 8, 9, 0, 8, 4, 4, 4, 6, 9, 5, 7,\n",
       "       0, 9, 3, 0, 4, 5, 5, 8, 3, 0, 6, 9, 4, 9, 3, 3, 6, 2, 6, 7, 0, 9,\n",
       "       5, 1, 4, 9, 1, 4, 8, 6, 5, 0, 3, 0, 9, 8, 5, 0, 0, 1, 9, 5, 3, 3,\n",
       "       1, 1, 6, 0, 4, 4, 6, 5, 5, 3, 4, 3, 5, 7, 9, 6, 5, 0, 6, 6, 5, 7,\n",
       "       3, 5, 4, 8, 1, 6, 9, 3, 8, 8, 5, 4, 7, 3, 9, 9, 7, 1, 0, 7, 4, 4,\n",
       "       8, 8, 1, 5, 6, 8, 4, 3, 0, 9, 9, 4, 9, 6, 3, 8, 7, 1, 0, 1, 7, 7])"
      ]
     },
     "execution_count": 67,
     "metadata": {},
     "output_type": "execute_result"
    }
   ],
   "source": [
    "predict_value"
   ]
  },
  {
   "cell_type": "code",
   "execution_count": 85,
   "metadata": {
    "collapsed": true,
    "jupyter": {
     "outputs_hidden": true,
     "source_hidden": true
    }
   },
   "outputs": [
    {
     "data": {
      "text/plain": [
       "array([  0,   1,   2,   3,   4,   5,   6,   7,   8,   9,  10,  11,  12,\n",
       "        13,  14,  15,  16,  17,  18,  19,  20,  21,  22,  23,  24,  25,\n",
       "        26,  27,  28,  29,  30,  31,  32,  33,  34,  35,  36,  37,  38,\n",
       "        39,  40,  41,  42,  43,  44,  45,  46,  47,  48,  49,  50,  51,\n",
       "        52,  53,  54,  55,  56,  57,  58,  59,  60,  61,  62,  63,  64,\n",
       "        65,  66,  67,  68,  69,  70,  71,  72,  73,  74,  75,  76,  77,\n",
       "        78,  79,  80,  81,  82,  83,  84,  85,  86,  87,  88,  89,  90,\n",
       "        91,  92,  93,  94,  95,  96,  97,  98,  99, 100, 101, 102, 103,\n",
       "       104, 105, 106, 107, 108, 109, 110, 111, 112, 113, 114, 115, 116,\n",
       "       117, 118, 119, 120, 121, 122, 123, 124, 125, 126, 127, 128, 129,\n",
       "       130, 131])"
      ]
     },
     "execution_count": 85,
     "metadata": {},
     "output_type": "execute_result"
    }
   ],
   "source": [
    "np.arange(len(predict_value))"
   ]
  },
  {
   "cell_type": "code",
   "execution_count": 93,
   "metadata": {
    "collapsed": true,
    "jupyter": {
     "outputs_hidden": true,
     "source_hidden": true
    }
   },
   "outputs": [
    {
     "data": {
      "text/plain": [
       "array([1, 7, 2, 2, 2, 2, 4, 4, 7, 5, 4, 8, 4, 0, 8, 2, 2, 2, 6, 4, 8, 5,\n",
       "       0, 4, 5, 0, 2, 3, 3, 8, 5, 0, 6, 4, 2, 4, 5, 5, 6, 5, 6, 7, 0, 4,\n",
       "       3, 1, 2, 4, 1, 2, 8, 6, 3, 0, 5, 0, 5, 8, 3, 0, 0, 1, 4, 3, 5, 9,\n",
       "       1, 1, 6, 0, 2, 2, 6, 3, 3, 5, 2, 5, 8, 7, 4, 1, 3, 0, 6, 6, 3, 7,\n",
       "       5, 3, 2, 4, 1, 6, 4, 5, 8, 8, 3, 2, 7, 5, 4, 4, 7, 1, 0, 7, 2, 2,\n",
       "       8, 5, 1, 3, 6, 8, 2, 5, 0, 4, 4, 8, 4, 6, 5, 8, 7, 1, 0, 1, 7, 7])"
      ]
     },
     "execution_count": 93,
     "metadata": {},
     "output_type": "execute_result"
    }
   ],
   "source": [
    "for i in np.arange(len(predict_value)):   \n",
    "    if predict_value[i] == 2: \n",
    "        predict_value[i] = 9\n",
    "    elif predict_value[i] == 3: \n",
    "        predict_value[i] = 5\n",
    "    elif predict_value[i] == 4: \n",
    "        predict_value[i] = 2\n",
    "    elif predict_value[i] == 5: \n",
    "        predict_value[i] = 3\n",
    "    elif predict_value[i] == 9:\n",
    "        predict_value[i] = 4\n",
    "    else:\n",
    "        predict_value[i]=predict_value[i]\n",
    "predict_value"
   ]
  },
  {
   "cell_type": "code",
   "execution_count": 81,
   "metadata": {
    "collapsed": true,
    "jupyter": {
     "outputs_hidden": true,
     "source_hidden": true
    }
   },
   "outputs": [
    {
     "name": "stdout",
     "output_type": "stream",
     "text": [
      "4\n",
      "4\n",
      "4\n"
     ]
    }
   ],
   "source": [
    "class_mapping"
   ]
  },
  {
   "cell_type": "code",
   "execution_count": 82,
   "metadata": {
    "collapsed": true,
    "jupyter": {
     "outputs_hidden": true,
     "source_hidden": true
    }
   },
   "outputs": [
    {
     "name": "stdout",
     "output_type": "stream",
     "text": [
      "9\n",
      "8\n",
      "4\n"
     ]
    }
   ],
   "source": []
  },
  {
   "cell_type": "code",
   "execution_count": 36,
   "metadata": {},
   "outputs": [
    {
     "name": "stdout",
     "output_type": "stream",
     "text": [
      "{0: '18', 1: 'Ellie', 2: 'Jerry', 3: 'Prof.Kang', 4: 'Rockman', 5: 'Yoshit', 6: 'lala', 7: 'tan', 8: 'tim', 9: 'wwk'}\n"
     ]
    }
   ],
   "source": [
    "dict_new = {value:key for key,value in train_generator.class_indices.items()}\n",
    "print(dict_new)\n",
    "\n",
    "new = [dict_new.get(i, i) for i in predict_value] #轉換class\n",
    "\n",
    "new2 = [class_mapping.get(i, i) for i in new]"
   ]
  },
  {
   "cell_type": "code",
   "execution_count": 29,
   "metadata": {},
   "outputs": [
    {
     "data": {
      "text/plain": [
       "{'lala': 5,\n",
       " 'Jerry': 9,\n",
       " '18': 0,\n",
       " 'tim': 7,\n",
       " 'tan': 6,\n",
       " 'wwk': 8,\n",
       " 'Prof.Kang': 2,\n",
       " 'Yoshit': 4,\n",
       " 'Rockman': 3,\n",
       " 'Ellie': 1}"
      ]
     },
     "execution_count": 29,
     "metadata": {},
     "output_type": "execute_result"
    }
   ],
   "source": [
    "class_mapping"
   ]
  },
  {
   "cell_type": "markdown",
   "metadata": {},
   "source": [
    "# Save to CSV.file & read file"
   ]
  },
  {
   "cell_type": "code",
   "execution_count": 37,
   "metadata": {},
   "outputs": [],
   "source": [
    "from tensorflow.keras.models  import load_model\n",
    "model = load_model('./MYmodels/Xception7.h5')"
   ]
  },
  {
   "cell_type": "code",
   "execution_count": 16,
   "metadata": {},
   "outputs": [
    {
     "data": {
      "text/plain": [
       "<tensorflow.python.keras.engine.sequential.Sequential at 0x7fd252ffc978>"
      ]
     },
     "execution_count": 16,
     "metadata": {},
     "output_type": "execute_result"
    }
   ],
   "source": [
    "y_pred = mode"
   ]
  },
  {
   "cell_type": "code",
   "execution_count": 39,
   "metadata": {},
   "outputs": [],
   "source": [
    "import pandas as pd\n",
    "submit = pd.read_csv(\"sample_submition.csv\")\n",
    "submit = pd.DataFrame({\"id\":ids, \"class\":new2})\n",
    "submit.to_csv('Xception7.csv', index= False)"
   ]
  },
  {
   "cell_type": "code",
   "execution_count": null,
   "metadata": {},
   "outputs": [],
   "source": []
  }
 ],
 "metadata": {
  "kernelspec": {
   "display_name": "Python 3",
   "language": "python",
   "name": "python3"
  },
  "language_info": {
   "codemirror_mode": {
    "name": "ipython",
    "version": 3
   },
   "file_extension": ".py",
   "mimetype": "text/x-python",
   "name": "python",
   "nbconvert_exporter": "python",
   "pygments_lexer": "ipython3",
   "version": "3.7.3"
  }
 },
 "nbformat": 4,
 "nbformat_minor": 4
}
