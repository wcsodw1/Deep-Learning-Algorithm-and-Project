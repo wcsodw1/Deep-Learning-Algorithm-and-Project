{
 "cells": [
  {
   "cell_type": "markdown",
   "metadata": {},
   "source": [
    "## 目錄\n",
    "- Step 0. Loading dataset\n",
    "- Step 1. Data preprocessing\n",
    "    - Step 1.1 Creating Training and Testing sets\n",
    "    - Step 1.2 Scaling data\n",
    "    - Step 1.3 define sliding window function \n",
    "- Step 2. Build model\n",
    "    - Step 2.1 Build Model\n",
    "    - Step 2.2 Setting optimizer and make compile\n",
    "    - Step 2.3 Training model\n",
    "    - Step 2.4 model summary\n",
    "- Step 3. Plotting predictions from the network\n",
    "    - plot dataset\n",
    "- Practice\n",
    "    - 把Open、High、Low、Close跟Volume都當Feature"
   ]
  },
  {
   "cell_type": "markdown",
   "metadata": {},
   "source": [
    "# import package"
   ]
  },
  {
   "cell_type": "markdown",
   "metadata": {},
   "source": [
    "這份文件的資料集是Tesla從2014年到2017的股票歷史。"
   ]
  },
  {
   "cell_type": "code",
   "execution_count": 2,
   "metadata": {},
   "outputs": [],
   "source": [
    "import numpy as np\n",
    "import pandas as pd\n",
    "import matplotlib.pyplot as plt\n",
    "from pprint import pprint\n",
    "from sklearn.preprocessing import StandardScaler\n",
    "from sklearn.model_selection import train_test_split\n",
    "#|%matplotlib inline|"
   ]
  },
  {
   "cell_type": "markdown",
   "metadata": {},
   "source": [
    "## Step 0. Loading dataset"
   ]
  },
  {
   "cell_type": "code",
   "execution_count": 6,
   "metadata": {
    "scrolled": true
   },
   "outputs": [],
   "source": [
    "tesla_stocks = pd.read_csv('Data/tesla_stocks.csv')"
   ]
  },
  {
   "cell_type": "code",
   "execution_count": 9,
   "metadata": {},
   "outputs": [
    {
     "data": {
      "text/html": [
       "<div>\n",
       "<style scoped>\n",
       "    .dataframe tbody tr th:only-of-type {\n",
       "        vertical-align: middle;\n",
       "    }\n",
       "\n",
       "    .dataframe tbody tr th {\n",
       "        vertical-align: top;\n",
       "    }\n",
       "\n",
       "    .dataframe thead th {\n",
       "        text-align: right;\n",
       "    }\n",
       "</style>\n",
       "<table border=\"1\" class=\"dataframe\">\n",
       "  <thead>\n",
       "    <tr style=\"text-align: right;\">\n",
       "      <th></th>\n",
       "      <th>Date</th>\n",
       "      <th>Open</th>\n",
       "      <th>High</th>\n",
       "      <th>Low</th>\n",
       "      <th>Close</th>\n",
       "      <th>Volume</th>\n",
       "    </tr>\n",
       "  </thead>\n",
       "  <tbody>\n",
       "    <tr>\n",
       "      <th>0</th>\n",
       "      <td>4-Aug-14</td>\n",
       "      <td>234.38</td>\n",
       "      <td>240.50</td>\n",
       "      <td>233.27</td>\n",
       "      <td>238.52</td>\n",
       "      <td>5967406</td>\n",
       "    </tr>\n",
       "    <tr>\n",
       "      <th>1</th>\n",
       "      <td>5-Aug-14</td>\n",
       "      <td>237.47</td>\n",
       "      <td>242.99</td>\n",
       "      <td>235.69</td>\n",
       "      <td>238.49</td>\n",
       "      <td>5388581</td>\n",
       "    </tr>\n",
       "    <tr>\n",
       "      <th>2</th>\n",
       "      <td>6-Aug-14</td>\n",
       "      <td>238.90</td>\n",
       "      <td>251.42</td>\n",
       "      <td>238.58</td>\n",
       "      <td>248.93</td>\n",
       "      <td>9249265</td>\n",
       "    </tr>\n",
       "    <tr>\n",
       "      <th>3</th>\n",
       "      <td>7-Aug-14</td>\n",
       "      <td>250.12</td>\n",
       "      <td>256.69</td>\n",
       "      <td>249.12</td>\n",
       "      <td>252.39</td>\n",
       "      <td>7478926</td>\n",
       "    </tr>\n",
       "    <tr>\n",
       "      <th>4</th>\n",
       "      <td>8-Aug-14</td>\n",
       "      <td>251.16</td>\n",
       "      <td>251.76</td>\n",
       "      <td>246.50</td>\n",
       "      <td>248.13</td>\n",
       "      <td>5099061</td>\n",
       "    </tr>\n",
       "  </tbody>\n",
       "</table>\n",
       "</div>"
      ],
      "text/plain": [
       "       Date    Open    High     Low   Close   Volume\n",
       "0  4-Aug-14  234.38  240.50  233.27  238.52  5967406\n",
       "1  5-Aug-14  237.47  242.99  235.69  238.49  5388581\n",
       "2  6-Aug-14  238.90  251.42  238.58  248.93  9249265\n",
       "3  7-Aug-14  250.12  256.69  249.12  252.39  7478926\n",
       "4  8-Aug-14  251.16  251.76  246.50  248.13  5099061"
      ]
     },
     "execution_count": 9,
     "metadata": {},
     "output_type": "execute_result"
    }
   ],
   "source": [
    "# 資料共有六|個資訊，日期、開盤、當日最高、當日最低、收盤、成交量\n",
    "tesla_stocks.head()\n",
    "#tesla_stocks.shape"
   ]
  },
  {
   "cell_type": "markdown",
   "metadata": {},
   "source": [
    "## Step 1. Data preprocessing"
   ]
  },
  {
   "cell_type": "code",
   "execution_count": 10,
   "metadata": {},
   "outputs": [],
   "source": [
    "# 簡化預測複雜度，我們只使用收盤價預測\n",
    "data_to_use = tesla_stocks['Close'].values"
   ]
  },
  {
   "cell_type": "code",
   "execution_count": 11,
   "metadata": {},
   "outputs": [
    {
     "name": "stdout",
     "output_type": "stream",
     "text": [
      "Total number of days in the dataset: 756\n"
     ]
    }
   ],
   "source": [
    "# 資料共有756天成交紀錄\n",
    "print('Total number of days in the dataset: {}'.format(len(data_to_use)))"
   ]
  },
  {
   "cell_type": "markdown",
   "metadata": {},
   "source": [
    "### Step 1.1 Creating Training and Testing sets\n",
    "分割資料時，必須要在進行標準化之前進行分割。因為標準化會基於所有資料點調整資料分佈，但我們希望測試資料不會受到訓練資料的任何影響。\n",
    "\n",
    "#### Note: 在做資料處理之前先分割資料很重要，不要汙染測試集。"
   ]
  },
  {
   "cell_type": "code",
   "execution_count": 7,
   "metadata": {},
   "outputs": [],
   "source": [
    "data_to_use = tesla_stocks['Close'].values"
   ]
  },
  {
   "cell_type": "code",
   "execution_count": 8,
   "metadata": {},
   "outputs": [
    {
     "name": "stdout",
     "output_type": "stream",
     "text": [
      "Total number of days in the dataset: 756\n"
     ]
    }
   ],
   "source": [
    "print('Total number of days in the dataset: {}'.format(len(data_to_use)))"
   ]
  },
  {
   "cell_type": "markdown",
   "metadata": {},
   "source": [
    "### Step 1.2 Scaling data"
   ]
  },
  {
   "cell_type": "code",
   "execution_count": 9,
   "metadata": {},
   "outputs": [],
   "source": [
    "# 使用sklearn套件將資料標準化(mean = 0, std = 1)\n",
    "scaler = StandardScaler()"
   ]
  },
  {
   "cell_type": "code",
   "execution_count": 10,
   "metadata": {},
   "outputs": [],
   "source": [
    "scaled_dataset = scaler.fit_transform(data_to_use.reshape(-1, 1))"
   ]
  },
  {
   "cell_type": "code",
   "execution_count": 11,
   "metadata": {},
   "outputs": [
    {
     "data": {
      "image/png": "[encoded data removed]",
      "text/plain": [
       "<Figure size 864x504 with 1 Axes>"
      ]
     },
     "metadata": {},
     "output_type": "display_data"
    }
   ],
   "source": [
    "from pandas.plotting import register_matplotlib_converters\n",
    "register_matplotlib_converters()\n",
    "\n",
    "tesla_stocks.Date = pd.to_datetime(tesla_stocks.Date)\n",
    "plt.figure(figsize=(12, 7), frameon=False, facecolor='brown', edgecolor='blue')\n",
    "plt.title('Scaled TESLA stocks from August 2014 to August 2017')\n",
    "plt.xlabel('Days')\n",
    "plt.ylabel('Scaled value of stocks')\n",
    "plt.plot(tesla_stocks.Date, scaled_dataset, label='Stocks data')\n",
    "plt.legend()\n",
    "plt.show()"
   ]
  },
  {
   "cell_type": "markdown",
   "metadata": {},
   "source": [
    "### Step 1.3 define sliding window function "
   ]
  },
  {
   "cell_type": "code",
   "execution_count": 12,
   "metadata": {},
   "outputs": [],
   "source": [
    "# 抓取window_size的資料作為觀察資料(x), 下一天作為預測資料(y)\n",
    "\n",
    "def window_data(data, window_size):\n",
    "    X = []\n",
    "    y = []\n",
    "    i = 0\n",
    "    while (i + window_size) <= len(data) - 1:\n",
    "        X.append(data[i:i+window_size])\n",
    "        y.append(data[i+window_size])\n",
    "        i += 1\n",
    "    X = np.array(X)\n",
    "    y = np.array(y)\n",
    "    assert len(X) == len(y)\n",
    "    return X, y"
   ]
  },
  {
   "cell_type": "code",
   "execution_count": 24,
   "metadata": {},
   "outputs": [],
   "source": [
    "window_size = 7\n",
    "X, y = window_data(scaled_dataset, window_size)"
   ]
  },
  {
   "cell_type": "code",
   "execution_count": 14,
   "metadata": {},
   "outputs": [
    {
     "name": "stdout",
     "output_type": "stream",
     "text": [
      "X_train size: (700, 7, 1)\n",
      "y_train size: (700, 1)\n",
      "X_test size: (49, 7, 1)\n",
      "y_test size: (49, 1)\n"
     ]
    }
   ],
   "source": [
    "X_train = np.array(X[:700])\n",
    "y_train = np.array(y[:700])\n",
    "\n",
    "X_test = np.array(X[700:])\n",
    "y_test = np.array(y[700:])\n",
    "\n",
    "print(\"X_train size: {}\".format(X_train.shape))\n",
    "print(\"y_train size: {}\".format(y_train.shape))\n",
    "print(\"X_test size: {}\".format(X_test.shape))\n",
    "print(\"y_test size: {}\".format(y_test.shape))"
   ]
  },
  {
   "cell_type": "code",
   "execution_count": 15,
   "metadata": {},
   "outputs": [
    {
     "name": "stdout",
     "output_type": "stream",
     "text": [
      "(49, 7, 1)\n",
      "(700, 7, 1)\n"
     ]
    }
   ],
   "source": [
    "print(X_test.shape)\n",
    "print(X_train.shape)"
   ]
  },
  {
   "cell_type": "markdown",
   "metadata": {},
   "source": [
    "<img src='images/LSTM_stock_model(sequential).png'/>"
   ]
  },
  {
   "cell_type": "markdown",
   "metadata": {},
   "source": [
    "## Step 2. Build model"
   ]
  },
  {
   "cell_type": "code",
   "execution_count": 16,
   "metadata": {},
   "outputs": [],
   "source": [
    "from tensorflow.python.keras.models import Sequential\n",
    "from tensorflow.python.keras.layers import Dense, Dropout, LSTM\n",
    "from tensorflow.python.keras.layers import TimeDistributed, Flatten\n",
    "from tensorflow.keras.optimizers import Adam"
   ]
  },
  {
   "cell_type": "markdown",
   "metadata": {},
   "source": [
    "### Step 2.1 Build Model"
   ]
  },
  {
   "cell_type": "code",
   "execution_count": 17,
   "metadata": {},
   "outputs": [],
   "source": [
    "model = Sequential()\n",
    "model.add(LSTM(units=16, activation='relu', return_sequences=True))\n",
    "model.add(LSTM(units=16, activation='relu', return_sequences=False))\n",
    "model.add(Flatten())\n",
    "model.add(Dense(units=1))"
   ]
  },
  {
   "cell_type": "markdown",
   "metadata": {},
   "source": [
    "### Step 2.2 Setting optimizer and make compile"
   ]
  },
  {
   "cell_type": "code",
   "execution_count": 18,
   "metadata": {},
   "outputs": [],
   "source": [
    "opt = Adam(lr=0.001, decay=1e-6, clipvalue=5)\n",
    "\n",
    "model.compile(loss='mse', optimizer=opt, metrics=['mse'])"
   ]
  },
  {
   "cell_type": "markdown",
   "metadata": {},
   "source": [
    "### Step 2.3 Training model"
   ]
  },
  {
   "cell_type": "code",
   "execution_count": 19,
   "metadata": {
    "scrolled": true
   },
   "outputs": [
    {
     "name": "stdout",
     "output_type": "stream",
     "text": [
      "Train on 700 samples, validate on 49 samples\n",
      "Epoch 1/100\n",
      "700/700 [==============================] - 5s 7ms/sample - loss: 0.5499 - mse: 0.5499 - val_loss: 6.6267 - val_mse: 6.6267\n",
      "Epoch 2/100\n",
      "700/700 [==============================] - 0s 616us/sample - loss: 0.3990 - mse: 0.3990 - val_loss: 5.3652 - val_mse: 5.3652\n",
      "Epoch 3/100\n",
      "700/700 [==============================] - 0s 600us/sample - loss: 0.2216 - mse: 0.2216 - val_loss: 1.9594 - val_mse: 1.9594\n",
      "Epoch 4/100\n",
      "700/700 [==============================] - 0s 610us/sample - loss: 0.1060 - mse: 0.1060 - val_loss: 13.9846 - val_mse: 13.9846\n",
      "Epoch 5/100\n",
      "700/700 [==============================] - 0s 607us/sample - loss: 0.0690 - mse: 0.0690 - val_loss: 8.0429 - val_mse: 8.0429\n",
      "Epoch 6/100\n",
      "700/700 [==============================] - 0s 619us/sample - loss: 0.0642 - mse: 0.0642 - val_loss: 8.1495 - val_mse: 8.1495\n",
      "Epoch 7/100\n",
      "700/700 [==============================] - 0s 625us/sample - loss: 0.0610 - mse: 0.0610 - val_loss: 6.2119 - val_mse: 6.2119\n",
      "Epoch 8/100\n",
      "700/700 [==============================] - 0s 622us/sample - loss: 0.0575 - mse: 0.0575 - val_loss: 3.9386 - val_mse: 3.9386\n",
      "Epoch 9/100\n",
      "700/700 [==============================] - 0s 619us/sample - loss: 0.0549 - mse: 0.0549 - val_loss: 3.1740 - val_mse: 3.1740\n",
      "Epoch 10/100\n",
      "700/700 [==============================] - 0s 609us/sample - loss: 0.0527 - mse: 0.0527 - val_loss: 4.2840 - val_mse: 4.2840\n",
      "Epoch 11/100\n",
      "700/700 [==============================] - 0s 619us/sample - loss: 0.0494 - mse: 0.0494 - val_loss: 2.6824 - val_mse: 2.6824\n",
      "Epoch 12/100\n",
      "700/700 [==============================] - 0s 609us/sample - loss: 0.0464 - mse: 0.0464 - val_loss: 1.5466 - val_mse: 1.5466\n",
      "Epoch 13/100\n",
      "700/700 [==============================] - 0s 618us/sample - loss: 0.0439 - mse: 0.0439 - val_loss: 1.2841 - val_mse: 1.2841\n",
      "Epoch 14/100\n",
      "700/700 [==============================] - 0s 616us/sample - loss: 0.0408 - mse: 0.0408 - val_loss: 1.7428 - val_mse: 1.7428\n",
      "Epoch 15/100\n",
      "700/700 [==============================] - 0s 619us/sample - loss: 0.0370 - mse: 0.0370 - val_loss: 1.4042 - val_mse: 1.4042\n",
      "Epoch 16/100\n",
      "700/700 [==============================] - 0s 619us/sample - loss: 0.0336 - mse: 0.0336 - val_loss: 0.7668 - val_mse: 0.7668\n",
      "Epoch 17/100\n",
      "700/700 [==============================] - 0s 613us/sample - loss: 0.0313 - mse: 0.0313 - val_loss: 0.4340 - val_mse: 0.4340\n",
      "Epoch 18/100\n",
      "700/700 [==============================] - 0s 610us/sample - loss: 0.0288 - mse: 0.0288 - val_loss: 0.4432 - val_mse: 0.4432\n",
      "Epoch 19/100\n",
      "700/700 [==============================] - 0s 620us/sample - loss: 0.0276 - mse: 0.0276 - val_loss: 0.3020 - val_mse: 0.3020\n",
      "Epoch 20/100\n",
      "700/700 [==============================] - 0s 617us/sample - loss: 0.0258 - mse: 0.0258 - val_loss: 0.0873 - val_mse: 0.0873\n",
      "Epoch 21/100\n",
      "700/700 [==============================] - 0s 607us/sample - loss: 0.0235 - mse: 0.0235 - val_loss: 0.1254 - val_mse: 0.1254\n",
      "Epoch 22/100\n",
      "700/700 [==============================] - 0s 617us/sample - loss: 0.0221 - mse: 0.0221 - val_loss: 0.0858 - val_mse: 0.0858\n",
      "Epoch 23/100\n",
      "700/700 [==============================] - 0s 611us/sample - loss: 0.0218 - mse: 0.0218 - val_loss: 0.0856 - val_mse: 0.0856\n",
      "Epoch 24/100\n",
      "700/700 [==============================] - 0s 623us/sample - loss: 0.0207 - mse: 0.0207 - val_loss: 0.1196 - val_mse: 0.1196\n",
      "Epoch 25/100\n",
      "700/700 [==============================] - 0s 624us/sample - loss: 0.0225 - mse: 0.0225 - val_loss: 0.1102 - val_mse: 0.1102\n",
      "Epoch 26/100\n",
      "700/700 [==============================] - 0s 608us/sample - loss: 0.0221 - mse: 0.0221 - val_loss: 0.1163 - val_mse: 0.1163\n",
      "Epoch 27/100\n",
      "700/700 [==============================] - 0s 623us/sample - loss: 0.0207 - mse: 0.0207 - val_loss: 0.0920 - val_mse: 0.0920\n",
      "Epoch 28/100\n",
      "700/700 [==============================] - 0s 619us/sample - loss: 0.0199 - mse: 0.0199 - val_loss: 0.1494 - val_mse: 0.1494\n",
      "Epoch 29/100\n",
      "700/700 [==============================] - 0s 613us/sample - loss: 0.0225 - mse: 0.0225 - val_loss: 0.1415 - val_mse: 0.1415\n",
      "Epoch 30/100\n",
      "700/700 [==============================] - 0s 629us/sample - loss: 0.0219 - mse: 0.0219 - val_loss: 0.1091 - val_mse: 0.1091\n",
      "Epoch 31/100\n",
      "700/700 [==============================] - 0s 631us/sample - loss: 0.0213 - mse: 0.0213 - val_loss: 0.0803 - val_mse: 0.0803\n",
      "Epoch 32/100\n",
      "700/700 [==============================] - 0s 621us/sample - loss: 0.0200 - mse: 0.0200 - val_loss: 0.0586 - val_mse: 0.0586\n",
      "Epoch 33/100\n",
      "700/700 [==============================] - 0s 629us/sample - loss: 0.0205 - mse: 0.0205 - val_loss: 0.1193 - val_mse: 0.1193\n",
      "Epoch 34/100\n",
      "700/700 [==============================] - 0s 626us/sample - loss: 0.0210 - mse: 0.0210 - val_loss: 0.1374 - val_mse: 0.1374\n",
      "Epoch 35/100\n",
      "700/700 [==============================] - 0s 625us/sample - loss: 0.0219 - mse: 0.0219 - val_loss: 0.1567 - val_mse: 0.1567\n",
      "Epoch 36/100\n",
      "700/700 [==============================] - 0s 631us/sample - loss: 0.0199 - mse: 0.0199 - val_loss: 0.0571 - val_mse: 0.0571\n",
      "Epoch 37/100\n",
      "700/700 [==============================] - 0s 621us/sample - loss: 0.0192 - mse: 0.0192 - val_loss: 0.1294 - val_mse: 0.1294\n",
      "Epoch 38/100\n",
      "700/700 [==============================] - 0s 628us/sample - loss: 0.0197 - mse: 0.0197 - val_loss: 0.1292 - val_mse: 0.1292\n",
      "Epoch 39/100\n",
      "700/700 [==============================] - 0s 638us/sample - loss: 0.0204 - mse: 0.0204 - val_loss: 0.0862 - val_mse: 0.0862\n",
      "Epoch 40/100\n",
      "700/700 [==============================] - 0s 629us/sample - loss: 0.0209 - mse: 0.0209 - val_loss: 0.1930 - val_mse: 0.1930\n",
      "Epoch 41/100\n",
      "700/700 [==============================] - 0s 635us/sample - loss: 0.0197 - mse: 0.0197 - val_loss: 0.0739 - val_mse: 0.0739\n",
      "Epoch 42/100\n",
      "700/700 [==============================] - 0s 620us/sample - loss: 0.0190 - mse: 0.0190 - val_loss: 0.0994 - val_mse: 0.0994\n",
      "Epoch 43/100\n",
      "700/700 [==============================] - 0s 621us/sample - loss: 0.0203 - mse: 0.0203 - val_loss: 0.0575 - val_mse: 0.0575\n",
      "Epoch 44/100\n",
      "700/700 [==============================] - 0s 609us/sample - loss: 0.0218 - mse: 0.0218 - val_loss: 0.0601 - val_mse: 0.0601\n",
      "Epoch 45/100\n",
      "700/700 [==============================] - 0s 626us/sample - loss: 0.0210 - mse: 0.0210 - val_loss: 0.0643 - val_mse: 0.0643\n",
      "Epoch 46/100\n",
      "700/700 [==============================] - 0s 616us/sample - loss: 0.0197 - mse: 0.0197 - val_loss: 0.0546 - val_mse: 0.0546\n",
      "Epoch 47/100\n",
      "700/700 [==============================] - 0s 615us/sample - loss: 0.0195 - mse: 0.0195 - val_loss: 0.0847 - val_mse: 0.0847\n",
      "Epoch 48/100\n",
      "700/700 [==============================] - 0s 619us/sample - loss: 0.0195 - mse: 0.0195 - val_loss: 0.0809 - val_mse: 0.0809\n",
      "Epoch 49/100\n",
      "700/700 [==============================] - 0s 621us/sample - loss: 0.0187 - mse: 0.0187 - val_loss: 0.0579 - val_mse: 0.0579\n",
      "Epoch 50/100\n",
      "700/700 [==============================] - 0s 605us/sample - loss: 0.0212 - mse: 0.0212 - val_loss: 0.0508 - val_mse: 0.0508\n",
      "Epoch 51/100\n",
      "700/700 [==============================] - 0s 606us/sample - loss: 0.0209 - mse: 0.0209 - val_loss: 0.0598 - val_mse: 0.0598\n",
      "Epoch 52/100\n",
      "700/700 [==============================] - 0s 627us/sample - loss: 0.0192 - mse: 0.0192 - val_loss: 0.0554 - val_mse: 0.0554\n",
      "Epoch 53/100\n",
      "700/700 [==============================] - 0s 636us/sample - loss: 0.0190 - mse: 0.0190 - val_loss: 0.0906 - val_mse: 0.0906\n",
      "Epoch 54/100\n",
      "700/700 [==============================] - 0s 616us/sample - loss: 0.0203 - mse: 0.0203 - val_loss: 0.0550 - val_mse: 0.0550\n",
      "Epoch 55/100\n",
      "700/700 [==============================] - 0s 621us/sample - loss: 0.0193 - mse: 0.0193 - val_loss: 0.0513 - val_mse: 0.0513\n",
      "Epoch 56/100\n",
      "700/700 [==============================] - 0s 612us/sample - loss: 0.0193 - mse: 0.0193 - val_loss: 0.0523 - val_mse: 0.0523\n",
      "Epoch 57/100\n",
      "700/700 [==============================] - 0s 622us/sample - loss: 0.0193 - mse: 0.0193 - val_loss: 0.0686 - val_mse: 0.0686\n",
      "Epoch 58/100\n",
      "700/700 [==============================] - 0s 629us/sample - loss: 0.0194 - mse: 0.0194 - val_loss: 0.0525 - val_mse: 0.0525\n",
      "Epoch 59/100\n",
      "700/700 [==============================] - 0s 614us/sample - loss: 0.0187 - mse: 0.0187 - val_loss: 0.1146 - val_mse: 0.1146\n",
      "Epoch 60/100\n",
      "700/700 [==============================] - 0s 642us/sample - loss: 0.0185 - mse: 0.0185 - val_loss: 0.0501 - val_mse: 0.0501\n",
      "Epoch 61/100\n",
      "700/700 [==============================] - 0s 620us/sample - loss: 0.0187 - mse: 0.0187 - val_loss: 0.0582 - val_mse: 0.0582\n",
      "Epoch 62/100\n",
      "700/700 [==============================] - 0s 612us/sample - loss: 0.0191 - mse: 0.0191 - val_loss: 0.0527 - val_mse: 0.0527\n",
      "Epoch 63/100\n",
      "700/700 [==============================] - 0s 612us/sample - loss: 0.0195 - mse: 0.0195 - val_loss: 0.0528 - val_mse: 0.0528\n",
      "Epoch 64/100\n",
      "700/700 [==============================] - 0s 618us/sample - loss: 0.0192 - mse: 0.0192 - val_loss: 0.0709 - val_mse: 0.0709\n",
      "Epoch 65/100\n",
      "700/700 [==============================] - 0s 608us/sample - loss: 0.0188 - mse: 0.0188 - val_loss: 0.0992 - val_mse: 0.0992\n",
      "Epoch 66/100\n",
      "700/700 [==============================] - 0s 619us/sample - loss: 0.0192 - mse: 0.0192 - val_loss: 0.1432 - val_mse: 0.1432\n",
      "Epoch 67/100\n",
      "700/700 [==============================] - 0s 616us/sample - loss: 0.0187 - mse: 0.0187 - val_loss: 0.0568 - val_mse: 0.0568\n",
      "Epoch 68/100\n",
      "700/700 [==============================] - 0s 615us/sample - loss: 0.0200 - mse: 0.0200 - val_loss: 0.0556 - val_mse: 0.0556\n",
      "Epoch 69/100\n",
      "700/700 [==============================] - 0s 610us/sample - loss: 0.0207 - mse: 0.0207 - val_loss: 0.0577 - val_mse: 0.0577\n",
      "Epoch 70/100\n",
      "700/700 [==============================] - 0s 621us/sample - loss: 0.0196 - mse: 0.0196 - val_loss: 0.0701 - val_mse: 0.0701\n",
      "Epoch 71/100\n",
      "700/700 [==============================] - 0s 625us/sample - loss: 0.0196 - mse: 0.0196 - val_loss: 0.0542 - val_mse: 0.0542\n",
      "Epoch 72/100\n",
      "700/700 [==============================] - 0s 621us/sample - loss: 0.0200 - mse: 0.0200 - val_loss: 0.0570 - val_mse: 0.0570\n",
      "Epoch 73/100\n",
      "700/700 [==============================] - 0s 630us/sample - loss: 0.0188 - mse: 0.0188 - val_loss: 0.0551 - val_mse: 0.0551\n",
      "Epoch 74/100\n",
      "700/700 [==============================] - 0s 626us/sample - loss: 0.0186 - mse: 0.0186 - val_loss: 0.1187 - val_mse: 0.1187\n",
      "Epoch 75/100\n",
      "700/700 [==============================] - 0s 616us/sample - loss: 0.0182 - mse: 0.0182 - val_loss: 0.0568 - val_mse: 0.0568\n",
      "Epoch 76/100\n",
      "700/700 [==============================] - 0s 616us/sample - loss: 0.0190 - mse: 0.0190 - val_loss: 0.0647 - val_mse: 0.0647\n",
      "Epoch 77/100\n",
      "700/700 [==============================] - 0s 617us/sample - loss: 0.0195 - mse: 0.0195 - val_loss: 0.0707 - val_mse: 0.0707\n",
      "Epoch 78/100\n",
      "700/700 [==============================] - 0s 615us/sample - loss: 0.0200 - mse: 0.0200 - val_loss: 0.1269 - val_mse: 0.1269\n",
      "Epoch 79/100\n",
      "700/700 [==============================] - 0s 619us/sample - loss: 0.0186 - mse: 0.0186 - val_loss: 0.0677 - val_mse: 0.0677\n",
      "Epoch 80/100\n",
      "700/700 [==============================] - 0s 610us/sample - loss: 0.0186 - mse: 0.0186 - val_loss: 0.0777 - val_mse: 0.0777\n",
      "Epoch 81/100\n",
      "700/700 [==============================] - 0s 608us/sample - loss: 0.0188 - mse: 0.0188 - val_loss: 0.0781 - val_mse: 0.0781\n",
      "Epoch 82/100\n",
      "700/700 [==============================] - 0s 613us/sample - loss: 0.0199 - mse: 0.0199 - val_loss: 0.0674 - val_mse: 0.0674\n",
      "Epoch 83/100\n",
      "700/700 [==============================] - 0s 615us/sample - loss: 0.0207 - mse: 0.0207 - val_loss: 0.1335 - val_mse: 0.1335\n",
      "Epoch 84/100\n",
      "700/700 [==============================] - 0s 630us/sample - loss: 0.0205 - mse: 0.0205 - val_loss: 0.0581 - val_mse: 0.0581\n",
      "Epoch 85/100\n",
      "700/700 [==============================] - 0s 615us/sample - loss: 0.0200 - mse: 0.0200 - val_loss: 0.0662 - val_mse: 0.0662\n",
      "Epoch 86/100\n",
      "700/700 [==============================] - 0s 628us/sample - loss: 0.0188 - mse: 0.0188 - val_loss: 0.0718 - val_mse: 0.0718\n",
      "Epoch 87/100\n",
      "700/700 [==============================] - 0s 615us/sample - loss: 0.0184 - mse: 0.0184 - val_loss: 0.1025 - val_mse: 0.1025\n",
      "Epoch 88/100\n",
      "700/700 [==============================] - 0s 621us/sample - loss: 0.0190 - mse: 0.0190 - val_loss: 0.0569 - val_mse: 0.0569\n",
      "Epoch 89/100\n",
      "700/700 [==============================] - 0s 615us/sample - loss: 0.0191 - mse: 0.0191 - val_loss: 0.0611 - val_mse: 0.0611\n",
      "Epoch 90/100\n",
      "700/700 [==============================] - 0s 621us/sample - loss: 0.0189 - mse: 0.0189 - val_loss: 0.0704 - val_mse: 0.0704\n",
      "Epoch 91/100\n",
      "700/700 [==============================] - 0s 624us/sample - loss: 0.0189 - mse: 0.0189 - val_loss: 0.0573 - val_mse: 0.0573\n",
      "Epoch 92/100\n",
      "700/700 [==============================] - 0s 621us/sample - loss: 0.0188 - mse: 0.0188 - val_loss: 0.0748 - val_mse: 0.0748\n",
      "Epoch 93/100\n",
      "700/700 [==============================] - 0s 624us/sample - loss: 0.0189 - mse: 0.0189 - val_loss: 0.0701 - val_mse: 0.0701\n",
      "Epoch 94/100\n",
      "700/700 [==============================] - 0s 619us/sample - loss: 0.0184 - mse: 0.0184 - val_loss: 0.1104 - val_mse: 0.1104\n",
      "Epoch 95/100\n",
      "700/700 [==============================] - 0s 625us/sample - loss: 0.0191 - mse: 0.0191 - val_loss: 0.1012 - val_mse: 0.1012\n",
      "Epoch 96/100\n",
      "700/700 [==============================] - 0s 617us/sample - loss: 0.0187 - mse: 0.0187 - val_loss: 0.1517 - val_mse: 0.1517\n",
      "Epoch 97/100\n",
      "700/700 [==============================] - 0s 623us/sample - loss: 0.0192 - mse: 0.0192 - val_loss: 0.0894 - val_mse: 0.0894\n",
      "Epoch 98/100\n",
      "700/700 [==============================] - 0s 614us/sample - loss: 0.0189 - mse: 0.0189 - val_loss: 0.0664 - val_mse: 0.0664\n",
      "Epoch 99/100\n",
      "700/700 [==============================] - 0s 628us/sample - loss: 0.0185 - mse: 0.0185 - val_loss: 0.0854 - val_mse: 0.0854\n",
      "Epoch 100/100\n",
      "700/700 [==============================] - 0s 616us/sample - loss: 0.0185 - mse: 0.0185 - val_loss: 0.0702 - val_mse: 0.0702\n"
     ]
    },
    {
     "data": {
      "text/plain": [
       "<tensorflow.python.keras.callbacks.History at 0x7fdda00c0cc0>"
      ]
     },
     "execution_count": 19,
     "metadata": {},
     "output_type": "execute_result"
    }
   ],
   "source": [
    "model.fit(X_train, y_train, epochs=100, validation_data=(X_test, y_test))"
   ]
  },
  {
   "cell_type": "markdown",
   "metadata": {},
   "source": [
    "### Step 2.4 model summary"
   ]
  },
  {
   "cell_type": "code",
   "execution_count": 20,
   "metadata": {},
   "outputs": [
    {
     "name": "stdout",
     "output_type": "stream",
     "text": [
      "Model: \"sequential\"\n",
      "_________________________________________________________________\n",
      "Layer (type)                 Output Shape              Param #   \n",
      "=================================================================\n",
      "lstm (LSTM)                  multiple                  1152      \n",
      "_________________________________________________________________\n",
      "lstm_1 (LSTM)                multiple                  2112      \n",
      "_________________________________________________________________\n",
      "flatten (Flatten)            multiple                  0         \n",
      "_________________________________________________________________\n",
      "dense (Dense)                multiple                  17        \n",
      "=================================================================\n",
      "Total params: 3,281\n",
      "Trainable params: 3,281\n",
      "Non-trainable params: 0\n",
      "_________________________________________________________________\n"
     ]
    }
   ],
   "source": [
    "model.summary()"
   ]
  },
  {
   "cell_type": "markdown",
   "metadata": {},
   "source": [
    "## Step 3. Plotting predictions from the network"
   ]
  },
  {
   "cell_type": "code",
   "execution_count": 21,
   "metadata": {},
   "outputs": [],
   "source": [
    "# Training set預測結果\n",
    "training_set_pred = np.array([])\n",
    "\n",
    "training_set_pred = model.predict(X_train)\n",
    "\n",
    "# Testing set預測結果\n",
    "\n",
    "testing_set_pred = model.predict(X_test)"
   ]
  },
  {
   "cell_type": "code",
   "execution_count": 22,
   "metadata": {},
   "outputs": [
    {
     "name": "stdout",
     "output_type": "stream",
     "text": [
      "testing_loss: [0.07021739]\n"
     ]
    }
   ],
   "source": [
    "# 把資料放到list裡面準備畫圖\n",
    "# 因為我們是用前七天預測第8天股價，故前七天設為None\n",
    "training = [None]*window_size\n",
    "for i in range(len(X_train)):\n",
    "    training.append(training_set_pred[i])\n",
    "testing = [None] * (window_size + len(X_train))\n",
    "testing_loss = 0\n",
    "for i in range(len(X_test)):\n",
    "    testing.append(testing_set_pred[i])\n",
    "    training.append(None)\n",
    "    testing_loss += (testing_set_pred[i] - y_test[i])**2\n",
    "print('testing_loss:', testing_loss / len(X_test))"
   ]
  },
  {
   "cell_type": "markdown",
   "metadata": {},
   "source": [
    "### plot dataset"
   ]
  },
  {
   "cell_type": "code",
   "execution_count": 23,
   "metadata": {},
   "outputs": [
    {
     "data": {
      "image/png": "[encoded data removed]",
      "text/plain": [
       "<Figure size 1152x504 with 1 Axes>"
      ]
     },
     "metadata": {
      "needs_background": "light"
     },
     "output_type": "display_data"
    }
   ],
   "source": [
    "plt.figure(figsize=(16, 7))\n",
    "plt.plot(tesla_stocks.Date, scaled_dataset, label='Original data')\n",
    "plt.plot(tesla_stocks.Date, training, label='Training data')\n",
    "plt.plot(tesla_stocks.Date, testing, label='Testing data')\n",
    "plt.legend()\n",
    "plt.show()"
   ]
  },
  {
   "cell_type": "markdown",
   "metadata": {},
   "source": [
    "## Practice\n",
    "1. 把Open、High、Low、Close跟Volume都當Feature"
   ]
  }
 ],
 "metadata": {
  "anaconda-cloud": {},
  "kernelspec": {
   "display_name": "Python 3",
   "language": "python",
   "name": "python3"
  },
  "language_info": {
   "codemirror_mode": {
    "name": "ipython",
    "version": 3
   },
   "file_extension": ".py",
   "mimetype": "text/x-python",
   "name": "python",
   "nbconvert_exporter": "python",
   "pygments_lexer": "ipython3",
   "version": "3.7.4"
  }
 },
 "nbformat": 4,
 "nbformat_minor": 4
}
